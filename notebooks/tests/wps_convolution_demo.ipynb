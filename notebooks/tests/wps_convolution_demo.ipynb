{
 "cells": [
  {
   "cell_type": "markdown",
   "metadata": {},
   "source": [
    "# wps_convolution\n",
    "\n",
    "#### wps_convolution is a process that runs the [convolution](https://rvic.readthedocs.io/en/latest/user-guide/convolution/) module of a VIC streamflow routing model, called [RVIC](https://rvic.readthedocs.io/en/latest/). To get started, first instatiate the client. Here, the client will try to connect to a remote osprey instance using the url parameter."
   ]
  },
  {
   "cell_type": "code",
   "execution_count": 1,
   "metadata": {},
   "outputs": [],
   "source": [
    "from birdy import WPSClient\n",
    "import os\n",
    "from datetime import datetime\n",
    "from wps_tools.testing import get_target_url\n",
    "from netCDF4 import Dataset\n",
    "from rvic.core.config import read_config\n",
    "from importlib.resources import files\n",
    "\n",
    "# Ensure we are in the working directory with access to the data\n",
    "while os.path.basename(os.getcwd()) != \"osprey\":\n",
    "    os.chdir('../')"
   ]
  },
  {
   "cell_type": "code",
   "execution_count": 2,
   "metadata": {},
   "outputs": [
    {
     "name": "stdout",
     "output_type": "stream",
     "text": [
      "Using osprey on https://marble-dev01.pcic.uvic.ca/twitcher/ows/proxy/osprey/wps\n"
     ]
    }
   ],
   "source": [
    "# NBVAL_IGNORE_OUTPUT\n",
    "url = get_target_url(\"osprey\")\n",
    "print(f\"Using osprey on {url}\")"
   ]
  },
  {
   "cell_type": "code",
   "execution_count": 3,
   "metadata": {},
   "outputs": [],
   "source": [
    "osprey = WPSClient(url)"
   ]
  },
  {
   "cell_type": "markdown",
   "metadata": {},
   "source": [
    "#### Help for individual processes can be diplayed using the ? command (ex. bird.process?)."
   ]
  },
  {
   "cell_type": "code",
   "execution_count": 4,
   "metadata": {},
   "outputs": [
    {
     "data": {
      "text/plain": [
       "\u001b[31mSignature:\u001b[39m\n",
       "osprey.convolution(\n",
       "    case_id,\n",
       "    run_startdate,\n",
       "    stop_date,\n",
       "    domain=\u001b[38;5;28;01mNone\u001b[39;00m,\n",
       "    param_file=\u001b[38;5;28;01mNone\u001b[39;00m,\n",
       "    input_forcings=\u001b[38;5;28;01mNone\u001b[39;00m,\n",
       "    loglevel=\u001b[33m'INFO'\u001b[39m,\n",
       "    convolve_config_file=\u001b[38;5;28;01mNone\u001b[39;00m,\n",
       "    convolve_config_dict=\u001b[38;5;28;01mNone\u001b[39;00m,\n",
       ")\n",
       "\u001b[31mDocstring:\u001b[39m\n",
       "Aggregates the flow contribution from all upstream grid cellsat every timestep lagged according the Impuls Response Functions.\n",
       "\n",
       "Parameters\n",
       "----------\n",
       "loglevel : {'CRITICAL', 'ERROR', 'WARNING', 'INFO', 'DEBUG', 'NOTSET'}string\n",
       "    Logging level\n",
       "case_id : string\n",
       "    Case ID for the RVIC process\n",
       "run_startdate : string\n",
       "    Run start date (yyyy-mm-dd-hh). Only used for startup and drystart runs.\n",
       "stop_date : string\n",
       "    Run stop date based on STOP_OPTION\n",
       "domain : ComplexData:mimetype:`application/x-netcdf`, :mimetype:`application/x-ogc-dods`\n",
       "    Path to CESM complaint domain file\n",
       "param_file : ComplexData:mimetype:`application/x-netcdf`, :mimetype:`application/x-ogc-dods`\n",
       "    Path to RVIC parameter file\n",
       "input_forcings : ComplexData:mimetype:`application/x-netcdf`, :mimetype:`application/x-ogc-dods`\n",
       "    Path to land data netCDF forcings\n",
       "convolve_config_file : ComplexData:mimetype:`text/cfg`\n",
       "    Path to input configuration file for Convolution process\n",
       "convolve_config_dict : string\n",
       "    Dictionary containing input configuration for Convolution process\n",
       "\n",
       "Returns\n",
       "-------\n",
       "output : ComplexData:mimetype:`application/x-netcdf`\n",
       "    Output Netcdf File\n",
       "\u001b[31mFile:\u001b[39m      ~/python-sprint/py-repos/osprey/</home/quintins/.cache/pypoetry/virtualenvs/osprey-ZXncEVFc-py3.11/lib/python3.11/site-packages/birdy/client/base.py-1>\n",
       "\u001b[31mType:\u001b[39m      method"
      ]
     },
     "metadata": {},
     "output_type": "display_data"
    }
   ],
   "source": [
    "# NBVAL_IGNORE_OUTPUT\n",
    "osprey.convolution?"
   ]
  },
  {
   "cell_type": "markdown",
   "metadata": {},
   "source": [
    "#### We can use the docstring to ensure we provide the appropriate parameters."
   ]
  },
  {
   "cell_type": "code",
   "execution_count": 5,
   "metadata": {},
   "outputs": [],
   "source": [
    "# run convolution only with required inputs\n",
    "output_basic = osprey.convolution(\n",
    "    case_id = \"sample\",\n",
    "    run_startdate = \"2012-12-01-00\",\n",
    "    stop_date = \"2012-12-31\",\n",
    "    domain = \"https://marble-dev01.pcic.uvic.ca/twitcher/ows/proxy/thredds/dodsC/datasets/storage/data/projects/comp_support/climate_explorer_data_prep/hydro/sample_data/set4/sample_routing_domain.nc\",\n",
    "    param_file = str((files(\"tests\") / \"data/samples/sample.rvic.prm.COLUMBIA.20180516.nc\").resolve()),\n",
    "    input_forcings = \"https://marble-dev01.pcic.uvic.ca/twitcher/ows/proxy/thredds/dodsC/datasets/storage/data/projects/comp_support/climate_explorer_data_prep/hydro/sample_data/set4/columbia_vicset2.nc\",\n",
    ")\n",
    "# Use asobj=True to access the data from the output file\n",
    "basic_data = output_basic.get(asobj=True)[0]"
   ]
  },
  {
   "cell_type": "code",
   "execution_count": 6,
   "metadata": {},
   "outputs": [],
   "source": [
    "# run convolution with local configuration file\n",
    "output_config_file = osprey.convolution(\n",
    "    case_id = \"sample\",\n",
    "    run_startdate = \"2012-12-01-00\",\n",
    "    stop_date = \"2012-12-31\",\n",
    "    domain = \"https://marble-dev01.pcic.uvic.ca/twitcher/ows/proxy/thredds/dodsC/datasets/storage/data/projects/comp_support/climate_explorer_data_prep/hydro/sample_data/set4/sample_routing_domain.nc\",\n",
    "     param_file = str((files(\"tests\") / \"data/samples/sample.rvic.prm.COLUMBIA.20180516.nc\").resolve()),\n",
    "    input_forcings = \"https://marble-dev01.pcic.uvic.ca/twitcher/ows/proxy/thredds/dodsC/datasets/storage/data/projects/comp_support/climate_explorer_data_prep/hydro/sample_data/set4/columbia_vicset2.nc\",\n",
    "    convolve_config_file = str((files(\"tests\") / \"data/configs/convolve.cfg\").resolve()),\n",
    ")\n",
    "config_file_data = output_config_file.get(asobj=True)[0]"
   ]
  },
  {
   "cell_type": "code",
   "execution_count": null,
   "metadata": {},
   "outputs": [],
   "source": [
    "# run convolution with configuration dictionary\n",
    "output_config_dict = osprey.convolution(\n",
    "    case_id = \"sample\",\n",
    "    run_startdate = \"2012-12-01-00\",\n",
    "    stop_date = \"2012-12-31\",\n",
    "    domain = \"https://marble-dev01.pcic.uvic.ca/twitcher/ows/proxy/thredds/dodsC/datasets/storage/data/projects/comp_support/climate_explorer_data_prep/hydro/sample_data/set4/sample_routing_domain.nc\",\n",
    "    param_file = str((files(\"tests\") / \"data/samples/sample.rvic.prm.COLUMBIA.20180516.nc\").resolve()),\n",
    "    input_forcings = \"https://marble-dev01.pcic.uvic.ca/twitcher/ows/proxy/thredds/dodsC/datasets/storage/data/projects/comp_support/climate_explorer_data_prep/hydro/sample_data/set4/columbia_vicset2.nc\",   \n",
    "    convolve_config_dict = {\n",
    "        \"OPTIONS\": {\n",
    "            \"CASESTR\": \"Historical\",\n",
    "        },\n",
    "    }\n",
    ")\n",
    "config_dict_data = output_config_dict.get(asobj=True)[0]"
   ]
  },
  {
   "cell_type": "markdown",
   "metadata": {},
   "source": [
    "#### Once the process has completed we can extract the results and ensure it is what we expected."
   ]
  },
  {
   "cell_type": "code",
   "execution_count": null,
   "metadata": {},
   "outputs": [],
   "source": [
    "# Expected output metadata determined from the input configuration file\n",
    "expected = {\n",
    "    \"title\": \"RVIC history file\",\n",
    "    \"year\": datetime.now().strftime(\"%Y\"),\n",
    "    \"month\": datetime.now().strftime(\"%b\"),\n",
    "    \"day\": datetime.now().strftime(\"%d\").zfill(2),\n",
    "    \"RvicPourPointsFile\": \"sample_pour.txt\",\n",
    "    \"RvicUHFile\": \"uhbox.csv\",\n",
    "    \"RvicFdrFile\": \"sample_flow_parameters.nc\",\n",
    "    \"RvicDomainFile\": \"sample_routing_domain.nc\",\n",
    "}"
   ]
  },
  {
   "cell_type": "code",
   "execution_count": null,
   "metadata": {},
   "outputs": [],
   "source": [
    "def test_convolution_output(output_data, expected):\n",
    "    # Metadata of the output of RVIC convolution module\n",
    "    metadata = {\n",
    "        \"title\": output_data.title,\n",
    "        \"year\": output_data.history.split()[5],\n",
    "        \"month\": output_data.history.split()[2].zfill(2),\n",
    "        \"day\": output_data.history.split()[3].zfill(2),\n",
    "        \"RvicPourPointsFile\": output_data.RvicPourPointsFile,\n",
    "        \"RvicUHFile\": output_data.RvicUHFile,\n",
    "        \"RvicFdrFile\": output_data.RvicFdrFile,\n",
    "        \"RvicDomainFile\": output_data.RvicDomainFile,\n",
    "    }\n",
    "    assert metadata == expected"
   ]
  },
  {
   "cell_type": "code",
   "execution_count": null,
   "metadata": {},
   "outputs": [],
   "source": [
    "test_convolution_output(basic_data, expected)\n",
    "test_convolution_output(config_file_data, expected)\n",
    "test_convolution_output(config_dict_data, expected)"
   ]
  }
 ],
 "metadata": {
  "kernelspec": {
   "display_name": "Python 3 (ipykernel)",
   "language": "python",
   "name": "python3"
  },
  "language_info": {
   "codemirror_mode": {
    "name": "ipython",
    "version": 3
   },
   "file_extension": ".py",
   "mimetype": "text/x-python",
   "name": "python",
   "nbconvert_exporter": "python",
   "pygments_lexer": "ipython3",
   "version": "3.11.9"
  }
 },
 "nbformat": 4,
 "nbformat_minor": 4
}
