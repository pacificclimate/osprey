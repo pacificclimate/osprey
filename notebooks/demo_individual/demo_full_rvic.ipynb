{
 "cells": [
  {
   "cell_type": "code",
   "execution_count": null,
   "metadata": {},
   "outputs": [],
   "source": [
    "from birdy import WPSClient\n",
    "from pkg_resources import resource_filename\n",
    "\n",
    "import requests"
   ]
  },
  {
   "cell_type": "code",
   "execution_count": null,
   "metadata": {},
   "outputs": [],
   "source": [
    "import os \n",
    "while os.path.basename(os.getcwd()) != \"osprey\": # Ensure current directory is always 'osprey'\n",
    "    os.chdir('../')"
   ]
  },
  {
   "cell_type": "code",
   "execution_count": null,
   "metadata": {},
   "outputs": [],
   "source": [
    "# Set up wps application\n",
    "url = 'http://localhost:5002/wps'\n",
    "osprey = WPSClient(url=url)"
   ]
  },
  {
   "cell_type": "code",
   "execution_count": null,
   "metadata": {},
   "outputs": [
    {
     "data": {
      "text/plain": [
       "\u001b[0;31mType:\u001b[0m            WPSClient\n",
       "\u001b[0;31mString form:\u001b[0m     <birdy.client.base.WPSClient object at 0x7f2cab20d5c0>\n",
       "\u001b[0;31mFile:\u001b[0m            ~/Desktop/osprey/venv/lib/python3.6/site-packages/birdy/client/base.py\n",
       "\u001b[0;31mDocstring:\u001b[0m      \n",
       "A Web Processing Service for Climate Data Analysis.\n",
       "\n",
       "Processes\n",
       "---------\n",
       "\n",
       "convolution\n",
       "    Aggregates the flow contribution from all upstream grid cellsat every timestep lagged according the Impuls Response Functions.\n",
       "\n",
       "parameters\n",
       "    Develop impulse response functions using inputs from a configuration file or dictionary\n",
       "\n",
       "full_rvic\n",
       "    Run full RVIC process combining Parameters and Convolution modules\n",
       "\u001b[0;31mClass docstring:\u001b[0m\n",
       "Returns a class where every public method is a WPS process available at\n",
       "the given url.\n",
       "\n",
       "Example:\n",
       "    >>> emu = WPSClient(url='<server url>')\n",
       "    >>> emu.hello('stranger')\n",
       "    'Hello stranger'\n",
       "\u001b[0;31mInit docstring:\u001b[0m \n",
       "Args:\n",
       "    url (str): Link to WPS provider. config (Config): an instance\n",
       "    processes: Specify a subset of processes to bind. Defaults to all\n",
       "        processes.\n",
       "    converters (dict): Correspondence of {mimetype: class} to convert\n",
       "        this mimetype to a python object.\n",
       "    username (str): passed to :class:`owslib.wps.WebProcessingService`\n",
       "    password (str): passed to :class:`owslib.wps.WebProcessingService`\n",
       "    headers (str): passed to :class:`owslib.wps.WebProcessingService`\n",
       "    auth (requests.auth.AuthBase): requests-style auth class to authenticate,\n",
       "        see https://2.python-requests.org/en/master/user/authentication/\n",
       "    verify (bool): passed to :class:`owslib.wps.WebProcessingService`\n",
       "    cert (str): passed to :class:`owslib.wps.WebProcessingService`\n",
       "    verbose (str): passed to :class:`owslib.wps.WebProcessingService`\n",
       "    progress (bool): If True, enable interactive user mode.\n",
       "    version (str): WPS version to use.\n"
      ]
     },
     "metadata": {},
     "output_type": "display_data"
    }
   ],
   "source": [
    "osprey?"
   ]
  },
  {
   "cell_type": "code",
   "execution_count": null,
   "metadata": {},
   "outputs": [
    {
     "data": {
      "text/plain": [
       "\u001b[0;31mSignature:\u001b[0m \u001b[0mosprey\u001b[0m\u001b[0;34m.\u001b[0m\u001b[0mfull_rvic\u001b[0m\u001b[0;34m(\u001b[0m\u001b[0mparams_config\u001b[0m\u001b[0;34m,\u001b[0m \u001b[0mconvolve_config\u001b[0m\u001b[0;34m,\u001b[0m \u001b[0mnp\u001b[0m\u001b[0;34m=\u001b[0m\u001b[0;36m1\u001b[0m\u001b[0;34m,\u001b[0m \u001b[0mloglevel\u001b[0m\u001b[0;34m=\u001b[0m\u001b[0;34m'INFO'\u001b[0m\u001b[0;34m)\u001b[0m\u001b[0;34m\u001b[0m\u001b[0;34m\u001b[0m\u001b[0m\n",
       "\u001b[0;31mDocstring:\u001b[0m\n",
       "Run full RVIC process combining Parameters and Convolution modules\n",
       "\n",
       "Parameters\n",
       "----------\n",
       "params_config : string\n",
       "    Path to parameters module's input configuration file or input dictionary\n",
       "convolve_config : string\n",
       "    Path to convolution module's input configuration file or input dictionary\n",
       "np : integer\n",
       "    Number of processors used to run job\n",
       "loglevel : {'CRITICAL', 'ERROR', 'WARNING', 'INFO', 'DEBUG', 'NOTSET'}string\n",
       "    Logging level\n",
       "\n",
       "Returns\n",
       "-------\n",
       "output : ComplexData:mimetype:`application/x-netcdf`\n",
       "    Output Netcdf File\n",
       "\u001b[0;31mFile:\u001b[0m      ~/Desktop/osprey/</home/sangwonl/Desktop/osprey/venv/lib/python3.6/site-packages/birdy/client/base.py-4>\n",
       "\u001b[0;31mType:\u001b[0m      method\n"
      ]
     },
     "metadata": {},
     "output_type": "display_data"
    }
   ],
   "source": [
    "# Check info on `full_rvic` process\n",
    "osprey.full_rvic?"
   ]
  },
  {
   "cell_type": "code",
   "execution_count": null,
   "metadata": {},
   "outputs": [
    {
     "name": "stdout",
     "output_type": "stream",
     "text": [
      "/home/sangwonl/Desktop/osprey/tests/data/samples/sample_parameter_config.cfg\n"
     ]
    }
   ],
   "source": [
    "params_cfg = resource_filename(\"tests\", \"data/samples/sample_parameter_config.cfg\")\n",
    "convolve_cfg = resource_filename(\"tests\", \"configs/convolve_opendap.cfg\")\n",
    "\n",
    "print(params_cfg)"
   ]
  },
  {
   "cell_type": "code",
   "execution_count": null,
   "metadata": {},
   "outputs": [],
   "source": [
    "# run parameters\n",
    "output = osprey.full_rvic(\n",
    "    params_config = params_cfg,\n",
    "    convolve_config = convolve_cfg,\n",
    ")"
   ]
  },
  {
   "cell_type": "code",
   "execution_count": null,
   "metadata": {},
   "outputs": [],
   "source": []
  }
 ],
 "metadata": {
  "kernelspec": {
   "display_name": "Python 3",
   "language": "python",
   "name": "python3"
  },
  "language_info": {
   "codemirror_mode": {
    "name": "ipython",
    "version": 3
   },
   "file_extension": ".py",
   "mimetype": "text/x-python",
   "name": "python",
   "nbconvert_exporter": "python",
   "pygments_lexer": "ipython3",
   "version": "3.6.9"
  }
 },
 "nbformat": 4,
 "nbformat_minor": 4
}
