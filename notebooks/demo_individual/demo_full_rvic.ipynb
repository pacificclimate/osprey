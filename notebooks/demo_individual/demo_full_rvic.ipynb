{
 "cells": [
  {
   "cell_type": "code",
   "execution_count": 1,
   "metadata": {},
   "outputs": [],
   "source": [
    "from birdy import WPSClient\n",
    "from pkg_resources import resource_filename\n",
    "\n",
    "import requests"
   ]
  },
  {
   "cell_type": "code",
   "execution_count": 2,
   "metadata": {},
   "outputs": [],
   "source": [
    "import os \n",
    "while os.path.basename(os.getcwd()) != \"osprey\": # Ensure current directory is always 'osprey'\n",
    "    os.chdir('../')"
   ]
  },
  {
   "cell_type": "code",
   "execution_count": 3,
   "metadata": {},
   "outputs": [],
   "source": [
    "# Set up wps application\n",
    "url = 'http://localhost:5002/wps'\n",
    "osprey = WPSClient(url=url)"
   ]
  },
  {
   "cell_type": "code",
   "execution_count": 4,
   "metadata": {},
   "outputs": [
    {
     "data": {
      "text/plain": [
       "\u001b[0;31mSignature:\u001b[0m\n",
       "\u001b[0mosprey\u001b[0m\u001b[0;34m.\u001b[0m\u001b[0mfull_rvic\u001b[0m\u001b[0;34m(\u001b[0m\u001b[0;34m\u001b[0m\n",
       "\u001b[0;34m\u001b[0m    \u001b[0mparams_config\u001b[0m\u001b[0;34m,\u001b[0m\u001b[0;34m\u001b[0m\n",
       "\u001b[0;34m\u001b[0m    \u001b[0mconvolve_config\u001b[0m\u001b[0;34m,\u001b[0m\u001b[0;34m\u001b[0m\n",
       "\u001b[0;34m\u001b[0m    \u001b[0mversion\u001b[0m\u001b[0;34m=\u001b[0m\u001b[0;32mTrue\u001b[0m\u001b[0;34m,\u001b[0m\u001b[0;34m\u001b[0m\n",
       "\u001b[0;34m\u001b[0m    \u001b[0mnp\u001b[0m\u001b[0;34m=\u001b[0m\u001b[0;36m1\u001b[0m\u001b[0;34m,\u001b[0m\u001b[0;34m\u001b[0m\n",
       "\u001b[0;34m\u001b[0m    \u001b[0mloglevel\u001b[0m\u001b[0;34m=\u001b[0m\u001b[0;34m'INFO'\u001b[0m\u001b[0;34m,\u001b[0m\u001b[0;34m\u001b[0m\n",
       "\u001b[0;34m\u001b[0m\u001b[0;34m)\u001b[0m\u001b[0;34m\u001b[0m\u001b[0;34m\u001b[0m\u001b[0m\n",
       "\u001b[0;31mDocstring:\u001b[0m\n",
       "Run full RVIC process combining Parameters and Convolution modules\n",
       "\n",
       "Parameters\n",
       "----------\n",
       "params_config : string\n",
       "    Path to parameters module's input configuration file or input dictionary\n",
       "convolve_config : string\n",
       "    Path to convolution module's input configuration file or input dictionary\n",
       "version : boolean\n",
       "    Return RVIC version string\n",
       "np : integer\n",
       "    Number of processors used to run job\n",
       "loglevel : {'CRITICAL', 'ERROR', 'WARNING', 'INFO', 'DEBUG', 'NOTSET'}string\n",
       "    Logging level\n",
       "\n",
       "Returns\n",
       "-------\n",
       "output : ComplexData:mimetype:`application/x-netcdf`\n",
       "    Output Netcdf File\n",
       "\u001b[0;31mFile:\u001b[0m      ~/Desktop/osprey/</home/sangwonl/Desktop/osprey/venv/lib/python3.6/site-packages/birdy/client/base.py-2>\n",
       "\u001b[0;31mType:\u001b[0m      method\n"
      ]
     },
     "metadata": {},
     "output_type": "display_data"
    }
   ],
   "source": [
    "# Check info on `full_rvic` process\n",
    "osprey.full_rvic?"
   ]
  },
  {
   "cell_type": "code",
   "execution_count": 5,
   "metadata": {},
   "outputs": [
    {
     "name": "stdout",
     "output_type": "stream",
     "text": [
      "/home/sangwonl/Desktop/osprey/tests/data/configs/parameters_local.cfg\n"
     ]
    }
   ],
   "source": [
    "params_cfg = resource_filename(\"tests\", \"data/configs/parameters_local.cfg\")\n",
    "convolve_cfg = resource_filename(\"tests\", \"data/configs/convolve_opendap.cfg\")\n",
    "\n",
    "print(params_cfg)"
   ]
  },
  {
   "cell_type": "code",
   "execution_count": 6,
   "metadata": {},
   "outputs": [],
   "source": [
    "# run full_rvic\n",
    "output = osprey.full_rvic(\n",
    "    params_config = params_cfg,\n",
    "    convolve_config = convolve_cfg,\n",
    ")"
   ]
  },
  {
   "cell_type": "code",
   "execution_count": 7,
   "metadata": {},
   "outputs": [
    {
     "data": {
      "text/plain": [
       "full_rvicResponse(\n",
       "    output='http://localhost:5002/outputs/69f81022-f79b-11ea-9a48-c86000e3f36f/sample.rvic.h0a.2013-01-01.nc'\n",
       ")"
      ]
     },
     "execution_count": 7,
     "metadata": {},
     "output_type": "execute_result"
    }
   ],
   "source": [
    "output.get()"
   ]
  },
  {
   "cell_type": "code",
   "execution_count": 8,
   "metadata": {},
   "outputs": [],
   "source": [
    "# dictionary inputs\n",
    "output = osprey.full_rvic(\n",
    "    params_config = {\n",
    "        \"OPTIONS\":{\n",
    "            \"CASEID\":\"sample\", \n",
    "            \"GRIDID\":\"COLUMBIA\",\n",
    "        },\n",
    "        \"POUR_POINTS\":{\n",
    "            \"FILE_NAME\":\"tests/data/samples/sample_pour.txt\"\n",
    "        },\n",
    "        \"UH_BOX\":{\n",
    "            \"FILE_NAME\":\"tests/data/samples/uhbox.csv\"\n",
    "        },\n",
    "        \"ROUTING\": {\n",
    "            \"FILE_NAME\":\"tests/data/samples/sample_flow_parameters.nc\"\n",
    "        },\n",
    "        \"DOMAIN\": {\n",
    "            \"FILE_NAME\":\"tests/data/samples/sample_routing_domain.nc\"\n",
    "        },\n",
    "    },\n",
    "    convolve_config = {\n",
    "        \"OPTIONS\":{\n",
    "            \"CASEID\":\"sample\", \n",
    "            \"RUN_STARTDATE\": \"2012-12-01-00\", \n",
    "            \"STOP_DATE\": \"2012-12-31\",\n",
    "            \"CALENDAR\": \"standard\",\n",
    "        },\n",
    "        \"DOMAIN\":{\n",
    "            \"FILE_NAME\":\"https://docker-dev03.pcic.uvic.ca/twitcher/ows/proxy/thredds/dodsC/datasets/RVIC/sample_routing_domain.nc\"\n",
    "        },\n",
    "        \"INPUT_FORCINGS\": {\n",
    "            \"DATL_PATH\": \"https://docker-dev03.pcic.uvic.ca/twitcher/ows/proxy/thredds/dodsC/datasets/RVIC/\",\n",
    "            \"DATL_FILE\": \"columbia_vicset2.nc\"\n",
    "        }\n",
    "    }\n",
    ")"
   ]
  },
  {
   "cell_type": "code",
   "execution_count": 9,
   "metadata": {},
   "outputs": [
    {
     "data": {
      "text/plain": [
       "full_rvicResponse(\n",
       "    output='http://localhost:5002/outputs/79e5d8b6-f79b-11ea-9a48-c86000e3f36f/sample.rvic.h0a.2013-01-01.nc'\n",
       ")"
      ]
     },
     "execution_count": 9,
     "metadata": {},
     "output_type": "execute_result"
    }
   ],
   "source": [
    "output.get()"
   ]
  },
  {
   "cell_type": "code",
   "execution_count": null,
   "metadata": {},
   "outputs": [],
   "source": []
  }
 ],
 "metadata": {
  "kernelspec": {
   "display_name": "Python 3",
   "language": "python",
   "name": "python3"
  },
  "language_info": {
   "codemirror_mode": {
    "name": "ipython",
    "version": 3
   },
   "file_extension": ".py",
   "mimetype": "text/x-python",
   "name": "python",
   "nbconvert_exporter": "python",
   "pygments_lexer": "ipython3",
   "version": "3.6.9"
  }
 },
 "nbformat": 4,
 "nbformat_minor": 4
}
