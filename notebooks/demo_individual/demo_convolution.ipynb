{
 "cells": [
  {
   "cell_type": "code",
   "execution_count": null,
   "metadata": {},
   "outputs": [],
   "source": [
    "from birdy import WPSClient\n",
    "from pkg_resources import resource_filename\n",
    "\n",
    "import requests"
   ]
  },
  {
   "cell_type": "code",
   "execution_count": null,
   "metadata": {},
   "outputs": [],
   "source": [
    "import os \n",
    "if os.path.basename(os.getcwd()) != \"osprey\": # Ensure current directory is always 'osprey'\n",
    "    os.chdir('../')"
   ]
  },
  {
   "cell_type": "code",
   "execution_count": null,
   "metadata": {},
   "outputs": [],
   "source": [
    "# Set up wps application\n",
    "url = 'http://localhost:5002/wps'\n",
    "osprey = WPSClient(url=url)"
   ]
  },
  {
   "cell_type": "code",
   "execution_count": null,
   "metadata": {},
   "outputs": [
    {
     "data": {
      "text/plain": [
       "\u001b[0;31mType:\u001b[0m            WPSClient\n",
       "\u001b[0;31mString form:\u001b[0m     <birdy.client.base.WPSClient object at 0x7f8be025a2d0>\n",
       "\u001b[0;31mFile:\u001b[0m            ~/Desktop/osprey/venv-i8/lib/python3.7/site-packages/birdy/client/base.py\n",
       "\u001b[0;31mDocstring:\u001b[0m      \n",
       "A Web Processing Service for Climate Data Analysis.\n",
       "\n",
       "Processes\n",
       "---------\n",
       "\n",
       "hello\n",
       "    Just says a friendly Hello.Returns a literal string output with Hello plus the inputed name.\n",
       "\n",
       "convolution\n",
       "    Aggregates the flow contribution from all upstream grid cellsat every timestep lagged according the Impuls Response Functions.\n",
       "\u001b[0;31mClass docstring:\u001b[0m\n",
       "Returns a class where every public method is a WPS process available at\n",
       "the given url.\n",
       "\n",
       "Example:\n",
       "    >>> emu = WPSClient(url='<server url>')\n",
       "    >>> emu.hello('stranger')\n",
       "    'Hello stranger'\n",
       "\u001b[0;31mInit docstring:\u001b[0m \n",
       "Args:\n",
       "    url (str): Link to WPS provider. config (Config): an instance\n",
       "    processes: Specify a subset of processes to bind. Defaults to all\n",
       "        processes.\n",
       "    converters (dict): Correspondence of {mimetype: class} to convert\n",
       "        this mimetype to a python object.\n",
       "    username (str): passed to :class:`owslib.wps.WebProcessingService`\n",
       "    password (str): passed to :class:`owslib.wps.WebProcessingService`\n",
       "    headers (str): passed to :class:`owslib.wps.WebProcessingService`\n",
       "    auth (requests.auth.AuthBase): requests-style auth class to authenticate,\n",
       "        see https://2.python-requests.org/en/master/user/authentication/\n",
       "    verify (bool): passed to :class:`owslib.wps.WebProcessingService`\n",
       "    cert (str): passed to :class:`owslib.wps.WebProcessingService`\n",
       "    verbose (str): passed to :class:`owslib.wps.WebProcessingService`\n",
       "    progress (bool): If True, enable interactive user mode.\n",
       "    version (str): WPS version to use.\n"
      ]
     },
     "metadata": {},
     "output_type": "display_data"
    }
   ],
   "source": [
    "# Check wps info\n",
    "osprey?"
   ]
  },
  {
   "cell_type": "code",
   "execution_count": null,
   "metadata": {},
   "outputs": [
    {
     "data": {
      "text/plain": [
       "\u001b[0;31mSignature:\u001b[0m \u001b[0mosprey\u001b[0m\u001b[0;34m.\u001b[0m\u001b[0mconvolution\u001b[0m\u001b[0;34m(\u001b[0m\u001b[0mconfig\u001b[0m\u001b[0;34m)\u001b[0m\u001b[0;34m\u001b[0m\u001b[0;34m\u001b[0m\u001b[0m\n",
       "\u001b[0;31mDocstring:\u001b[0m\n",
       "Aggregates the flow contribution from all upstream grid cellsat every timestep lagged according the Impuls Response Functions.\n",
       "\n",
       "Parameters\n",
       "----------\n",
       "config : string\n",
       "    Path to input configuration file or input dictionary\n",
       "\n",
       "Returns\n",
       "-------\n",
       "output : ComplexData:mimetype:`application/x-netcdf`\n",
       "    Output Netcdf File\n",
       "\u001b[0;31mFile:\u001b[0m      ~/Desktop/osprey/</home/slim/Desktop/osprey/venv-i8/lib/python3.7/site-packages/birdy/client/base.py-5>\n",
       "\u001b[0;31mType:\u001b[0m      method\n"
      ]
     },
     "metadata": {},
     "output_type": "display_data"
    }
   ],
   "source": [
    "# Check info on `convolution` process\n",
    "osprey.convolution?"
   ]
  },
  {
   "cell_type": "code",
   "execution_count": null,
   "metadata": {},
   "outputs": [
    {
     "name": "stdout",
     "output_type": "stream",
     "text": [
      "/home/slim/Desktop/osprey/tests/configs/convolve_opendap.cfg\n"
     ]
    }
   ],
   "source": [
    "cfg_file = os.path.join(os.getcwd(), 'tests/configs/convolve_opendap.cfg')\n",
    "print(cfg_file)"
   ]
  },
  {
   "cell_type": "code",
   "execution_count": null,
   "metadata": {},
   "outputs": [],
   "source": [
    "# generate convolution\n",
    "output = osprey.convolution(\n",
    "    config = cfg_file\n",
    ")"
   ]
  },
  {
   "cell_type": "code",
   "execution_count": null,
   "metadata": {},
   "outputs": [
    {
     "data": {
      "text/plain": [
       "convolutionResponse(\n",
       "    output='http://localhost:5002/outputs/005d478c-cc6b-11ea-abd3-503eaa25cee0/sample.rvic.h0a.2013-01-01.nc'\n",
       ")"
      ]
     },
     "execution_count": null,
     "metadata": {},
     "output_type": "execute_result"
    }
   ],
   "source": [
    "output.get()"
   ]
  },
  {
   "cell_type": "code",
   "execution_count": null,
   "metadata": {},
   "outputs": [],
   "source": []
  }
 ],
 "metadata": {
  "kernelspec": {
   "display_name": "Python 3",
   "language": "python",
   "name": "python3"
  },
  "language_info": {
   "codemirror_mode": {
    "name": "ipython",
    "version": 3
   },
   "file_extension": ".py",
   "mimetype": "text/x-python",
   "name": "python",
   "nbconvert_exporter": "python",
   "pygments_lexer": "ipython3",
   "version": "3.7.5"
  }
 },
 "nbformat": 4,
 "nbformat_minor": 4
}
