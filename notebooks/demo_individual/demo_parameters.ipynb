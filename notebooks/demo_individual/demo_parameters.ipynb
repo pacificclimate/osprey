{
 "cells": [
  {
   "cell_type": "code",
   "execution_count": null,
   "metadata": {},
   "outputs": [],
   "source": [
    "from birdy import WPSClient\n",
    "from pkg_resources import resource_filename\n",
    "\n",
    "import requests"
   ]
  },
  {
   "cell_type": "code",
   "execution_count": null,
   "metadata": {},
   "outputs": [],
   "source": [
    "import os \n",
    "while os.path.basename(os.getcwd()) != \"osprey\": # Ensure current directory is always 'osprey'\n",
    "    os.chdir('../')"
   ]
  },
  {
   "cell_type": "code",
   "execution_count": null,
   "metadata": {},
   "outputs": [],
   "source": [
    "# Set up wps application\n",
    "url = 'http://localhost:5002/wps'\n",
    "osprey = WPSClient(url=url)"
   ]
  },
  {
   "cell_type": "code",
   "execution_count": null,
   "metadata": {},
   "outputs": [
    {
     "data": {
      "text/plain": [
       "\u001b[0;31mSignature:\u001b[0m \u001b[0mosprey\u001b[0m\u001b[0;34m.\u001b[0m\u001b[0mparameters\u001b[0m\u001b[0;34m(\u001b[0m\u001b[0mparams_config\u001b[0m\u001b[0;34m,\u001b[0m \u001b[0mnp\u001b[0m\u001b[0;34m=\u001b[0m\u001b[0;36m1\u001b[0m\u001b[0;34m,\u001b[0m \u001b[0mversion\u001b[0m\u001b[0;34m=\u001b[0m\u001b[0;32mTrue\u001b[0m\u001b[0;34m,\u001b[0m \u001b[0mloglevel\u001b[0m\u001b[0;34m=\u001b[0m\u001b[0;34m'INFO'\u001b[0m\u001b[0;34m)\u001b[0m\u001b[0;34m\u001b[0m\u001b[0;34m\u001b[0m\u001b[0m\n",
       "\u001b[0;31mDocstring:\u001b[0m\n",
       "Develop impulse response functions using inputs from a configuration file or dictionary\n",
       "\n",
       "Parameters\n",
       "----------\n",
       "params_config : string\n",
       "    Path to input configuration file or input dictionary\n",
       "np : integer\n",
       "    Number of processors used to run job\n",
       "version : boolean\n",
       "    Return RVIC version string\n",
       "loglevel : {'CRITICAL', 'ERROR', 'WARNING', 'INFO', 'DEBUG', 'NOTSET'}string\n",
       "    Logging level\n",
       "\n",
       "Returns\n",
       "-------\n",
       "output : ComplexData:mimetype:`application/x-netcdf`\n",
       "    Output Netcdf File\n",
       "\u001b[0;31mFile:\u001b[0m      ~/Desktop/osprey/</home/sangwonl/Desktop/osprey/venv/lib/python3.6/site-packages/birdy/client/base.py-1>\n",
       "\u001b[0;31mType:\u001b[0m      method\n"
      ]
     },
     "metadata": {},
     "output_type": "display_data"
    }
   ],
   "source": [
    "# Check info on `parameters` process\n",
    "osprey.parameters?"
   ]
  },
  {
   "cell_type": "code",
   "execution_count": null,
   "metadata": {},
   "outputs": [
    {
     "name": "stdout",
     "output_type": "stream",
     "text": [
      "/home/sangwonl/Desktop/osprey/tests/data/samples/sample_parameter_config.cfg\n"
     ]
    }
   ],
   "source": [
    "cfg_file = resource_filename(\"tests\", \"data/samples/sample_parameter_config.cfg\")\n",
    "print(cfg_file)"
   ]
  },
  {
   "cell_type": "code",
   "execution_count": null,
   "metadata": {},
   "outputs": [],
   "source": [
    "# run parameters\n",
    "output = osprey.parameters(\n",
    "    params_config = cfg_file\n",
    ")"
   ]
  },
  {
   "cell_type": "code",
   "execution_count": null,
   "metadata": {},
   "outputs": [
    {
     "data": {
      "text/plain": [
       "parametersResponse(\n",
       "    output='http://localhost:5002/outputs/431081ae-e8ac-11ea-94ae-c86000e3f36f/sample.rvic.prm.COLUMBIA.20200827.nc'\n",
       ")"
      ]
     },
     "execution_count": null,
     "metadata": {},
     "output_type": "execute_result"
    }
   ],
   "source": [
    "output.get()"
   ]
  },
  {
   "cell_type": "code",
   "execution_count": null,
   "metadata": {},
   "outputs": [],
   "source": [
    "# dictionary input\n",
    "output = osprey.parameters(\n",
    "    params_config = {\n",
    "        \"OPTIONS\":{\n",
    "            \"CASEID\":\"sample\", \n",
    "            \"GRIDID\":\"COLUMBIA\",\n",
    "        },\n",
    "        \"POUR_POINTS\":{\n",
    "            \"FILE_NAME\":\"tests/data/samples/sample_pour.txt\"\n",
    "        },\n",
    "        \"UH_BOX\":{\n",
    "            \"FILE_NAME\":\"tests/data/samples/uhbox.csv\"\n",
    "        },\n",
    "        \"ROUTING\": {\n",
    "            \"FILE_NAME\":\"tests/data/samples/sample_flow_parameters.nc\"\n",
    "        },\n",
    "        \"DOMAIN\": {\n",
    "            \"FILE_NAME\":\"tests/data/samples/sample_routing_domain.nc\"\n",
    "        },\n",
    "    }\n",
    ")"
   ]
  },
  {
   "cell_type": "code",
   "execution_count": null,
   "metadata": {},
   "outputs": [],
   "source": [
    "output.get()"
   ]
  }
 ],
 "metadata": {
  "kernelspec": {
   "display_name": "Python 3",
   "language": "python",
   "name": "python3"
  },
  "language_info": {
   "codemirror_mode": {
    "name": "ipython",
    "version": 3
   },
   "file_extension": ".py",
   "mimetype": "text/x-python",
   "name": "python",
   "nbconvert_exporter": "python",
   "pygments_lexer": "ipython3",
   "version": "3.6.9"
  }
 },
 "nbformat": 4,
 "nbformat_minor": 4
}
