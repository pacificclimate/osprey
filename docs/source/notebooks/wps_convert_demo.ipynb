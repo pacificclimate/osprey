{
 "cells": [
  {
   "cell_type": "markdown",
   "metadata": {},
   "source": [
    "# wps_convert\n",
    "\n",
    "#### wps_convert is a process that runs the [convert](https://rvic.readthedocs.io/en/latest/user-guide/conversion/) module of a VIC streamflow routing model, called [RVIC](https://rvic.readthedocs.io/en/latest/). To get started, first instatiate the client. Here, the client will try to connect to a remote osprey instance using the url parameter."
   ]
  },
  {
   "cell_type": "code",
   "execution_count": null,
   "metadata": {},
   "outputs": [],
   "source": [
    "from birdy import WPSClient\n",
    "import requests\n",
    "import os\n",
    "from datetime import datetime\n",
    "from wps_tools import copy_http_content\n",
    "\n",
    "# Ensure we are in the working directory with access to the data\n",
    "if os.path.basename(os.getcwd()) != \"osprey\":\n",
    "    os.chdir('../../../')\n",
    "\n",
    "url = 'https://docker-dev03.pcic.uvic.ca/twitcher/ows/proxy/osprey/wps'\n",
    "osprey = WPSClient(url)"
   ]
  },
  {
   "cell_type": "markdown",
   "metadata": {},
   "source": [
    "#### Help for individual processes can be diplayed using the ? command (ex. bird.process?)."
   ]
  },
  {
   "cell_type": "code",
   "execution_count": null,
   "metadata": {},
   "outputs": [],
   "source": [
    "# NBVAL_IGNORE_OUTPUT\n",
    "osprey.convert?"
   ]
  },
  {
   "cell_type": "markdown",
   "metadata": {},
   "source": [
    "#### We can use the docstring to ensure we provide the appropriate parameters."
   ]
  },
  {
   "cell_type": "code",
   "execution_count": null,
   "metadata": {},
   "outputs": [],
   "source": [
    "# run convert\n",
    "convert_output = osprey.convert(\n",
    "    convert_config = \"tests/data/configs/convert_local.cfg\"\n",
    ")"
   ]
  },
  {
   "cell_type": "markdown",
   "metadata": {},
   "source": [
    "#### Once the process has completed we can extract the results and ensure it is what we expected."
   ]
  },
  {
   "cell_type": "code",
   "execution_count": null,
   "metadata": {},
   "outputs": [],
   "source": [
    "convert_data = Dataset(make_tmp_copy(convert_output))\n",
    "\n",
    "# Metadata of the output of RVIC convert module\n",
    "convert_meatadata = {\n",
    "    \"title\": convert_data.title,\n",
    "    \"year\": convert_data.history.split()[5],\n",
    "    \"month\": convert_data.history.split()[2],\n",
    "    \"day\": convert_data.history.split()[3],\n",
    "    \"RvicPourPointsFile\": convert_data.RvicPourPointsFile,\n",
    "    \"RvicUHFile\": convert_data.RvicUHFile,\n",
    "    \"RvicFdrFile\": convert_data.RvicFdrFile,\n",
    "    \"RvicDomainFile\": convert_data.RvicDomainFile,\n",
    "}"
   ]
  },
  {
   "cell_type": "code",
   "execution_count": null,
   "metadata": {},
   "outputs": [],
   "source": [
    "convert_config = read_config(\"tests/data/configs/convert_local.cfg\")\n",
    "\n",
    "# Expected output metadata determined from the input configuration file\n",
    "expected_metadata = {\n",
    "    \"title\": \"RVIC parameter file\",\n",
    "    \"year\": datetime.now().strftime(\"%Y\"),\n",
    "    \"month\": datetime.now().strftime(\"%b\"),\n",
    "    \"day\": datetime.now().strftime(\"%d\"),\n",
    "    \"RvicPourPointsFile\": convert_config[\"UHS_FILES\"][\"STATION_FILE\"].split(\"/\")[-1],\n",
    "    \"RvicUHFile\": \"unknown\",\n",
    "    \"RvicFdrFile\": \"unknown\",\n",
    "    \"RvicDomainFile\": convert_config[\"DOMAIN\"][\"FILE_NAME\"].split(\"/\")[-1],\n",
    "}\n",
    "\n",
    "assert convert_meatadata == expected_metadata"
   ]
  },
  {
   "cell_type": "code",
   "execution_count": null,
   "metadata": {},
   "outputs": [],
   "source": []
  }
 ],
 "metadata": {
  "kernelspec": {
   "display_name": "Python 3",
   "language": "python",
   "name": "python3"
  },
  "language_info": {
   "codemirror_mode": {
    "name": "ipython",
    "version": 3
   },
   "file_extension": ".py",
   "mimetype": "text/x-python",
   "name": "python",
   "nbconvert_exporter": "python",
   "pygments_lexer": "ipython3",
   "version": "3.6.9"
  }
 },
 "nbformat": 4,
 "nbformat_minor": 4
}
