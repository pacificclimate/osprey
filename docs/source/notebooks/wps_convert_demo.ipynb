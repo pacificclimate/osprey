{
 "cells": [
  {
   "cell_type": "markdown",
   "metadata": {},
   "source": [
    "# wps_convert\n",
    "\n",
    "#### wps_convert is a process that runs the [convert](https://rvic.readthedocs.io/en/latest/user-guide/conversion/) module of a VIC streamflow routing model, called [RVIC](https://rvic.readthedocs.io/en/latest/). To get started, first instatiate the client. Here, the client will try to connect to a remote osprey instance using the url parameter."
   ]
  },
  {
   "cell_type": "code",
   "execution_count": 1,
   "metadata": {},
   "outputs": [],
   "source": [
    "from birdy import WPSClient\n",
    "import requests\n",
    "import os\n",
    "from datetime import datetime\n",
    "from wps_tools.utils import copy_http_content\n",
    "from netCDF4 import Dataset\n",
    "from tempfile import NamedTemporaryFile\n",
    "from rvic.core.config import read_config\n",
    "from pkg_resources import resource_filename\n",
    "\n",
    "# Ensure we are in the working directory with access to the data\n",
    "while os.path.basename(os.getcwd()) != \"osprey\":\n",
    "    os.chdir('../')"
   ]
  },
  {
   "cell_type": "code",
   "execution_count": 2,
   "metadata": {},
   "outputs": [],
   "source": [
    "docker_url = 'https://docker-dev03.pcic.uvic.ca/twitcher/ows/proxy/osprey/wps'\n",
    "url = os.environ.get('WPS_URL', docker_url)\n",
    "osprey = WPSClient(url)"
   ]
  },
  {
   "cell_type": "markdown",
   "metadata": {},
   "source": [
    "#### Help for individual processes can be diplayed using the ? command (ex. bird.process?)."
   ]
  },
  {
   "cell_type": "code",
   "execution_count": 3,
   "metadata": {},
   "outputs": [
    {
     "data": {
      "text/plain": [
       "\u001b[0;31mSignature:\u001b[0m\n",
       "\u001b[0mosprey\u001b[0m\u001b[0;34m.\u001b[0m\u001b[0mconvert\u001b[0m\u001b[0;34m(\u001b[0m\u001b[0;34m\u001b[0m\n",
       "\u001b[0;34m\u001b[0m    \u001b[0muhs_files\u001b[0m\u001b[0;34m=\u001b[0m\u001b[0;32mNone\u001b[0m\u001b[0;34m,\u001b[0m\u001b[0;34m\u001b[0m\n",
       "\u001b[0;34m\u001b[0m    \u001b[0mstation_file\u001b[0m\u001b[0;34m=\u001b[0m\u001b[0;32mNone\u001b[0m\u001b[0;34m,\u001b[0m\u001b[0;34m\u001b[0m\n",
       "\u001b[0;34m\u001b[0m    \u001b[0mdomain\u001b[0m\u001b[0;34m=\u001b[0m\u001b[0;32mNone\u001b[0m\u001b[0;34m,\u001b[0m\u001b[0;34m\u001b[0m\n",
       "\u001b[0;34m\u001b[0m    \u001b[0mconfig_file\u001b[0m\u001b[0;34m=\u001b[0m\u001b[0;32mNone\u001b[0m\u001b[0;34m,\u001b[0m\u001b[0;34m\u001b[0m\n",
       "\u001b[0;34m\u001b[0m    \u001b[0mloglevel\u001b[0m\u001b[0;34m=\u001b[0m\u001b[0;34m'INFO'\u001b[0m\u001b[0;34m,\u001b[0m\u001b[0;34m\u001b[0m\n",
       "\u001b[0;34m\u001b[0m\u001b[0;34m)\u001b[0m\u001b[0;34m\u001b[0m\u001b[0;34m\u001b[0m\u001b[0m\n",
       "\u001b[0;31mDocstring:\u001b[0m\n",
       "A simple conversion utility to provide users with the ability to convert old routing model setups into RVIC parameters.\n",
       "\n",
       "Parameters\n",
       "----------\n",
       "loglevel : {'CRITICAL', 'ERROR', 'WARNING', 'INFO', 'DEBUG', 'NOTSET'}string\n",
       "    Logging level\n",
       "uhs_files : ComplexData:mimetype:`text/plain`\n",
       "    Path to UHS file\n",
       "station_file : ComplexData:mimetype:`text/plain`\n",
       "    Path to stations file\n",
       "domain : ComplexData:mimetype:`application/x-netcdf`, :mimetype:`application/x-ogc-dods`\n",
       "    Path to CESM complaint domain file\n",
       "config_file : ComplexData:mimetype:`text/cfg`\n",
       "    Path to input configuration file for Convert process\n",
       "\n",
       "Returns\n",
       "-------\n",
       "output : ComplexData:mimetype:`application/x-netcdf`\n",
       "    Output Netcdf File\n",
       "\u001b[0;31mFile:\u001b[0m      ~/code/birds/osprey/</tmp/osprey-venv/lib/python3.8/site-packages/birdy/client/base.py-0>\n",
       "\u001b[0;31mType:\u001b[0m      method\n"
      ]
     },
     "metadata": {},
     "output_type": "display_data"
    }
   ],
   "source": [
    "# NBVAL_IGNORE_OUTPUT\n",
    "osprey.convert?"
   ]
  },
  {
   "cell_type": "markdown",
   "metadata": {},
   "source": [
    "#### We can use the docstring to ensure we provide the appropriate parameters."
   ]
  },
  {
   "cell_type": "code",
   "execution_count": 4,
   "metadata": {},
   "outputs": [],
   "source": [
    "# run convert\n",
    "output = osprey.convert(\n",
    "    uhs_files = resource_filename(\"tests\", \"/data/samples/sample.uh_s2\"),\n",
    "    station_file = resource_filename(\"tests\", \"/data/samples/station_file.txt\"),\n",
    "    domain = resource_filename(\"tests\", \"/data/samples/sample_routing_domain.nc\"),\n",
    "    config_file = resource_filename(\"tests\", \"/data/configs/convert.cfg\")\n",
    ")"
   ]
  },
  {
   "cell_type": "markdown",
   "metadata": {},
   "source": [
    "#### Once the process has completed we can extract the results and ensure it is what we expected."
   ]
  },
  {
   "cell_type": "code",
   "execution_count": 5,
   "metadata": {},
   "outputs": [],
   "source": [
    "input_config = read_config(\"tests/data/configs/convert.cfg\")\n",
    "\n",
    "# Expected output metadata determined from the input configuration file\n",
    "expected = {\n",
    "    \"title\": \"RVIC parameter file\",\n",
    "    \"year\": datetime.now().strftime(\"%Y\"),\n",
    "    \"month\": datetime.now().strftime(\"%b\"),\n",
    "    \"day\": datetime.now().strftime(\"%d\"),\n",
    "    \"RvicUHFile\": \"unknown\",\n",
    "    \"RvicFdrFile\": \"unknown\",\n",
    "}"
   ]
  },
  {
   "cell_type": "code",
   "execution_count": 6,
   "metadata": {},
   "outputs": [],
   "source": [
    "with NamedTemporaryFile(suffix=\".nc\", prefix=\"tmp_copy\", dir=\"/tmp\", delete=True) as tmp_file:\n",
    "    output_data = Dataset(copy_http_content(output.get()[0], tmp_file))\n",
    "\n",
    "    # Metadata of the output of RVIC convert module\n",
    "    metadata = {\n",
    "        \"title\": output_data.title,\n",
    "        \"year\": output_data.history.split()[5],\n",
    "        \"month\": output_data.history.split()[2],\n",
    "        \"day\": output_data.history.split()[3],\n",
    "        \"RvicUHFile\": output_data.RvicUHFile,\n",
    "        \"RvicFdrFile\": output_data.RvicFdrFile,\n",
    "    }\n",
    "    assert metadata == expected"
   ]
  }
 ],
 "metadata": {
  "kernelspec": {
   "display_name": "Python 3",
   "language": "python",
   "name": "python3"
  },
  "language_info": {
   "codemirror_mode": {
    "name": "ipython",
    "version": 3
   },
   "file_extension": ".py",
   "mimetype": "text/x-python",
   "name": "python",
   "nbconvert_exporter": "python",
   "pygments_lexer": "ipython3",
   "version": "3.8.5"
  }
 },
 "nbformat": 4,
 "nbformat_minor": 4
}
