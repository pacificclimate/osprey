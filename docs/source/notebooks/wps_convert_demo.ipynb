{
 "cells": [
  {
   "cell_type": "markdown",
   "metadata": {},
   "source": [
    "# wps_convert\n",
    "\n",
    "#### wps_convert is a process that runs the [convert](https://rvic.readthedocs.io/en/latest/user-guide/conversion/) module of a VIC streamflow routing model, called [RVIC](https://rvic.readthedocs.io/en/latest/). To get started, first instatiate the client. Here, the client will try to connect to a remote osprey instance using the url parameter."
   ]
  },
  {
   "cell_type": "code",
   "execution_count": 1,
   "metadata": {},
   "outputs": [],
   "source": [
    "from birdy import WPSClient\n",
    "import requests\n",
    "import os\n",
    "from datetime import datetime\n",
    "from wps_tools.testing import get_target_url\n",
    "from netCDF4 import Dataset\n",
    "from tempfile import NamedTemporaryFile\n",
    "from rvic.core.config import read_config\n",
    "from pkg_resources import resource_filename\n",
    "\n",
    "# Ensure we are in the working directory with access to the data\n",
    "while os.path.basename(os.getcwd()) != \"osprey\":\n",
    "    os.chdir('../')"
   ]
  },
  {
   "cell_type": "code",
   "execution_count": 2,
   "metadata": {},
   "outputs": [
    {
     "name": "stdout",
     "output_type": "stream",
     "text": [
      "Using osprey on https://docker-dev03.pcic.uvic.ca/twitcher/ows/proxy/osprey/wps\n"
     ]
    }
   ],
   "source": [
    "# NBVAL_IGNORE_OUTPUT\n",
    "url = get_target_url(\"osprey\")\n",
    "print(f\"Using osprey on {url}\")"
   ]
  },
  {
   "cell_type": "code",
   "execution_count": 3,
   "metadata": {},
   "outputs": [],
   "source": [
    "osprey = WPSClient(url)"
   ]
  },
  {
   "cell_type": "markdown",
   "metadata": {},
   "source": [
    "#### Help for individual processes can be diplayed using the ? command (ex. bird.process?)."
   ]
  },
  {
   "cell_type": "code",
   "execution_count": 4,
   "metadata": {},
   "outputs": [
    {
     "data": {
      "text/plain": [
       "\u001b[0;31mSignature:\u001b[0m\n",
       "\u001b[0mosprey\u001b[0m\u001b[0;34m.\u001b[0m\u001b[0mconvert\u001b[0m\u001b[0;34m(\u001b[0m\u001b[0;34m\u001b[0m\n",
       "\u001b[0;34m\u001b[0m    \u001b[0muhs_files\u001b[0m\u001b[0;34m=\u001b[0m\u001b[0;32mNone\u001b[0m\u001b[0;34m,\u001b[0m\u001b[0;34m\u001b[0m\n",
       "\u001b[0;34m\u001b[0m    \u001b[0mstation_file\u001b[0m\u001b[0;34m=\u001b[0m\u001b[0;32mNone\u001b[0m\u001b[0;34m,\u001b[0m\u001b[0;34m\u001b[0m\n",
       "\u001b[0;34m\u001b[0m    \u001b[0mdomain\u001b[0m\u001b[0;34m=\u001b[0m\u001b[0;32mNone\u001b[0m\u001b[0;34m,\u001b[0m\u001b[0;34m\u001b[0m\n",
       "\u001b[0;34m\u001b[0m    \u001b[0mconfig_file\u001b[0m\u001b[0;34m=\u001b[0m\u001b[0;32mNone\u001b[0m\u001b[0;34m,\u001b[0m\u001b[0;34m\u001b[0m\n",
       "\u001b[0;34m\u001b[0m    \u001b[0mloglevel\u001b[0m\u001b[0;34m=\u001b[0m\u001b[0;34m'INFO'\u001b[0m\u001b[0;34m,\u001b[0m\u001b[0;34m\u001b[0m\n",
       "\u001b[0;34m\u001b[0m\u001b[0;34m)\u001b[0m\u001b[0;34m\u001b[0m\u001b[0;34m\u001b[0m\u001b[0m\n",
       "\u001b[0;31mDocstring:\u001b[0m\n",
       "A simple conversion utility to provide users with the ability to convert old routing model setups into RVIC parameters.\n",
       "\n",
       "Parameters\n",
       "----------\n",
       "loglevel : {'CRITICAL', 'ERROR', 'WARNING', 'INFO', 'DEBUG', 'NOTSET'}string\n",
       "    Logging level\n",
       "uhs_files : ComplexData:mimetype:`text/plain`\n",
       "    Path to UHS file\n",
       "station_file : ComplexData:mimetype:`text/plain`\n",
       "    Path to stations file\n",
       "domain : ComplexData:mimetype:`application/x-netcdf`, :mimetype:`application/x-ogc-dods`\n",
       "    Path to CESM complaint domain file\n",
       "config_file : ComplexData:mimetype:`text/cfg`\n",
       "    Path to input configuration file for Convert process\n",
       "\n",
       "Returns\n",
       "-------\n",
       "output : ComplexData:mimetype:`application/x-netcdf`\n",
       "    Output Netcdf File\n",
       "\u001b[0;31mFile:\u001b[0m      ~/code/birds/osprey/</tmp/osprey-venv/lib/python3.8/site-packages/birdy/client/base.py-0>\n",
       "\u001b[0;31mType:\u001b[0m      method\n"
      ]
     },
     "metadata": {},
     "output_type": "display_data"
    }
   ],
   "source": [
    "# NBVAL_IGNORE_OUTPUT\n",
    "osprey.convert?"
   ]
  },
  {
   "cell_type": "markdown",
   "metadata": {},
   "source": [
    "#### We can use the docstring to ensure we provide the appropriate parameters."
   ]
  },
  {
   "cell_type": "code",
   "execution_count": 5,
   "metadata": {},
   "outputs": [],
   "source": [
    "# run convert\n",
    "output = osprey.convert(\n",
    "    uhs_files = resource_filename(\"tests\", \"/data/samples/sample.uh_s2\"),\n",
    "    station_file = resource_filename(\"tests\", \"/data/samples/station_file.txt\"),\n",
    "    domain = resource_filename(\"tests\", \"/data/samples/sample_routing_domain.nc\"),\n",
    "    config_file = resource_filename(\"tests\", \"/data/configs/convert.cfg\")\n",
    ")"
   ]
  },
  {
   "cell_type": "markdown",
   "metadata": {},
   "source": [
    "Access the output with nc_to_dataset() or auto_construct_outputs() from wps_tools.output_handling"
   ]
  },
  {
   "cell_type": "code",
   "execution_count": 6,
   "metadata": {},
   "outputs": [
    {
     "data": {
      "text/plain": [
       "[<class 'netCDF4._netCDF4.Dataset'>\n",
       " root group (NETCDF3_CLASSIC data model, file format NETCDF3):\n",
       "     title: RVIC parameter file\n",
       "     comment: Output from the RVIC Streamflow Routing Model.\n",
       "     Conventions: CF-1.6\n",
       "     history: Created: Wed Jan  6 17:06:51 2021\n",
       "     source: /tmp/osprey-venv/bin/osprey\n",
       "     institution: University of Washington\n",
       "     hostname: pcic-2003\n",
       "     username: csanders\n",
       "     references: Based on the initial model of Lohmann, et al., 1996, Tellus, 48(A), 708-721\n",
       "     version: 1.1.4\n",
       "     RvicPourPointsFile: station_file.txt\n",
       "     RvicUHFile: unknown\n",
       "     RvicFdrFile: unknown\n",
       "     RvicDomainFile: sample_routing_domain.nc\n",
       "     featureType: timeSeries\n",
       "     dimensions(sizes): timesteps(97), outlets(1), nc_chars(256), sources(1), tracers(1)\n",
       "     variables(dimensions): float64 timesteps(timesteps), int32 full_time_length(), int32 subset_length(), float64 unit_hydrograph_dt(), float64 outlet_lon(outlets), float64 outlet_lat(outlets), int32 outlet_x_ind(outlets), int32 outlet_y_ind(outlets), int32 outlet_decomp_ind(outlets), int32 outlet_number(outlets), int32 outlet_mask(outlets), float64 outlet_upstream_area(outlets), int32 outlet_upstream_gridcells(outlets), |S1 outlet_name(outlets, nc_chars), float64 source_lon(sources), float64 source_lat(sources), int32 source_x_ind(sources), int32 source_y_ind(sources), int32 source_decomp_ind(sources), int32 source_time_offset(sources), int32 source2outlet_ind(sources), float64 unit_hydrograph(timesteps, sources, tracers)\n",
       "     groups: ]"
      ]
     },
     "execution_count": 6,
     "metadata": {},
     "output_type": "execute_result"
    }
   ],
   "source": [
    "# NBVAL_IGNORE_OUTPUT\n",
    "from wps_tools.output_handling import nc_to_dataset, auto_construct_outputs\n",
    "\n",
    "output_data = nc_to_dataset(output.get()[0])\n",
    "auto_construct_outputs(output.get())"
   ]
  },
  {
   "cell_type": "markdown",
   "metadata": {},
   "source": [
    "#### Once the process has completed we can extract the results and ensure it is what we expected."
   ]
  },
  {
   "cell_type": "code",
   "execution_count": 7,
   "metadata": {},
   "outputs": [],
   "source": [
    "input_config = read_config(\"tests/data/configs/convert.cfg\")\n",
    "\n",
    "# Expected output metadata determined from the input configuration file\n",
    "expected = {\n",
    "    \"title\": \"RVIC parameter file\",\n",
    "    \"year\": datetime.now().strftime(\"%Y\"),\n",
    "    \"month\": datetime.now().strftime(\"%b\"),\n",
    "    \"day\": datetime.now().strftime(\"%d\"),\n",
    "    \"RvicUHFile\": \"unknown\",\n",
    "    \"RvicFdrFile\": \"unknown\",\n",
    "}"
   ]
  },
  {
   "cell_type": "code",
   "execution_count": 8,
   "metadata": {},
   "outputs": [],
   "source": [
    "# Metadata of the output of RVIC convert module\n",
    "metadata = {\n",
    "    \"title\": output_data.title,\n",
    "    \"year\": output_data.history.split()[5],\n",
    "    \"month\": output_data.history.split()[2],\n",
    "    \"day\": output_data.history.split()[3].zfill(2),\n",
    "    \"RvicUHFile\": output_data.RvicUHFile,\n",
    "    \"RvicFdrFile\": output_data.RvicFdrFile,\n",
    "}\n",
    "assert metadata == expected"
   ]
  }
 ],
 "metadata": {
  "kernelspec": {
   "display_name": "Python 3",
   "language": "python",
   "name": "python3"
  },
  "language_info": {
   "codemirror_mode": {
    "name": "ipython",
    "version": 3
   },
   "file_extension": ".py",
   "mimetype": "text/x-python",
   "name": "python",
   "nbconvert_exporter": "python",
   "pygments_lexer": "ipython3",
   "version": "3.8.5"
  }
 },
 "nbformat": 4,
 "nbformat_minor": 4
}
