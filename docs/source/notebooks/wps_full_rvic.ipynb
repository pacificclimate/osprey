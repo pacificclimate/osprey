{
 "cells": [
  {
   "cell_type": "markdown",
   "metadata": {},
   "source": [
    "# wps_full_rvic\n",
    "\n",
    "#### wps_full_rvic is a process that runs the [parameters](https://rvic.readthedocs.io/en/latest/user-guide/parameters/) and [convolution](https://rvic.readthedocs.io/en/latest/user-guide/convolution/) module of a VIC streamflow routing model, called [RVIC](https://rvic.readthedocs.io/en/latest/). To get started, first instatiate the client. Here, the client will try to connect to a remote osprey instance using the url parameter."
   ]
  },
  {
   "cell_type": "code",
   "execution_count": null,
   "metadata": {},
   "outputs": [],
   "source": [
    "from birdy import WPSClient\n",
    "import requests\n",
    "import os\n",
    "from datetime import datetime\n",
    "from wps_tools import copy_http_content\n",
    "\n",
    "# Ensure we are in the working directory with access to the data\n",
    "if os.path.basename(os.getcwd()) != \"osprey\":\n",
    "    os.chdir('../../../')\n",
    "\n",
    "url = 'https://docker-dev03.pcic.uvic.ca/twitcher/ows/proxy/osprey/wps'\n",
    "osprey = WPSClient(url)"
   ]
  },
  {
   "cell_type": "markdown",
   "metadata": {},
   "source": [
    "#### Help for individual processes can be diplayed using the ? command (ex. bird.process?)."
   ]
  },
  {
   "cell_type": "code",
   "execution_count": null,
   "metadata": {},
   "outputs": [],
   "source": [
    "# NBVAL_IGNORE_OUTPUT\n",
    "osprey.full_rvic?"
   ]
  },
  {
   "cell_type": "markdown",
   "metadata": {},
   "source": [
    "#### We can use the docstring to ensure we provide the appropriate parameters."
   ]
  },
  {
   "cell_type": "code",
   "execution_count": null,
   "metadata": {},
   "outputs": [],
   "source": [
    "# run full_rvic\n",
    "full_rvic_output = osprey.full_rvic(\n",
    "    params_config = \"tests/data/configs/parameters_local.cfg\",\n",
    "    convolve_config = \"tests/data/configs/convolve_opendap.cfg\"\n",
    ")"
   ]
  },
  {
   "cell_type": "markdown",
   "metadata": {},
   "source": [
    "#### Once the process has completed we can extract the results and ensure it is what we expected."
   ]
  },
  {
   "cell_type": "code",
   "execution_count": null,
   "metadata": {},
   "outputs": [],
   "source": [
    "full_rvic_data = Dataset(make_tmp_copy(full_rvic_output))\n",
    "# Metadata of the final output of RVIC parameters + convolution \n",
    "full_rvic_meatadata = {\n",
    "    \"title\": full_rvic_data.title,\n",
    "    \"year\": full_rvic_data.history.split()[5],\n",
    "    \"month\": full_rvic_data.history.split()[2],\n",
    "    \"day\": full_rvic_data.history.split()[3],\n",
    "    \"RvicPourPointsFile\": full_rvic_data.RvicPourPointsFile,\n",
    "    \"RvicUHFile\": full_rvic_data.RvicUHFile,\n",
    "    \"RvicFdrFile\": full_rvic_data.RvicFdrFile,\n",
    "    \"RvicDomainFile\": full_rvic_data.RvicDomainFile,\n",
    "}"
   ]
  },
  {
   "cell_type": "code",
   "execution_count": null,
   "metadata": {},
   "outputs": [],
   "source": [
    "# Expected output metadata is identical to the RVIC convolution output\n",
    "\n",
    "assert full_rvic_meatadata == expected_metadata"
   ]
  }
 ],
 "metadata": {
  "kernelspec": {
   "display_name": "Python 3",
   "language": "python",
   "name": "python3"
  },
  "language_info": {
   "codemirror_mode": {
    "name": "ipython",
    "version": 3
   },
   "file_extension": ".py",
   "mimetype": "text/x-python",
   "name": "python",
   "nbconvert_exporter": "python",
   "pygments_lexer": "ipython3",
   "version": "3.6.9"
  }
 },
 "nbformat": 4,
 "nbformat_minor": 4
}
