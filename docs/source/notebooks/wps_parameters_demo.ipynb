{
 "cells": [
  {
   "cell_type": "markdown",
   "metadata": {},
   "source": [
    "# wps_parameters\n",
    "\n",
    "#### wps_parameters is a process that runs the [parameters](https://rvic.readthedocs.io/en/latest/user-guide/parameters/) module of a VIC streamflow routing model, called [RVIC](https://rvic.readthedocs.io/en/latest/). To get started, first instatiate the client. Here, the client will try to connect to a remote osprey instance using the url parameter."
   ]
  },
  {
   "cell_type": "code",
   "execution_count": null,
   "metadata": {},
   "outputs": [],
   "source": [
    "from birdy import WPSClient\n",
    "import requests\n",
    "import os\n",
    "from datetime import datetime\n",
    "from wps_tools import copy_http_content\n",
    "\n",
    "# Ensure we are in the working directory with access to the data\n",
    "if os.path.basename(os.getcwd()) != \"osprey\":\n",
    "    os.chdir('../../../')\n",
    "\n",
    "url = 'https://docker-dev03.pcic.uvic.ca/twitcher/ows/proxy/osprey/wps'\n",
    "osprey = WPSClient(url)"
   ]
  },
  {
   "cell_type": "markdown",
   "metadata": {},
   "source": [
    "#### Help for individual processes can be diplayed using the ? command (ex. bird.process?)."
   ]
  },
  {
   "cell_type": "code",
   "execution_count": null,
   "metadata": {},
   "outputs": [],
   "source": [
    "# NBVAL_IGNORE_OUTPUT\n",
    "osprey.parameters?"
   ]
  },
  {
   "cell_type": "markdown",
   "metadata": {},
   "source": [
    "#### We can use the docstring to ensure we provide the appropriate parameters."
   ]
  },
  {
   "cell_type": "code",
   "execution_count": null,
   "metadata": {},
   "outputs": [],
   "source": [
    "# run parameters\n",
    "params_output = osprey.parameters(\n",
    "    params_config = \"tests/data/configs/parameters_local.cfg\"\n",
    ")"
   ]
  },
  {
   "cell_type": "markdown",
   "metadata": {},
   "source": [
    "#### Once the process has completed we can extract the results and ensure it is what we expected."
   ]
  },
  {
   "cell_type": "code",
   "execution_count": null,
   "metadata": {},
   "outputs": [],
   "source": [
    "params_data = Dataset(make_tmp_copy(params_output))\n",
    "\n",
    "# Metadata of the output of RVIC parameters module\n",
    "params_meatadata = {\n",
    "    \"title\": params_data.title,\n",
    "    \"year\": params_data.history.split()[5],\n",
    "    \"month\": params_data.history.split()[2],\n",
    "    \"day\": params_data.history.split()[3],\n",
    "    \"RvicPourPointsFile\": params_data.RvicPourPointsFile,\n",
    "    \"RvicUHFile\": params_data.RvicUHFile,\n",
    "    \"RvicFdrFile\": params_data.RvicFdrFile,\n",
    "    \"RvicDomainFile\": params_data.RvicDomainFile,\n",
    "}"
   ]
  },
  {
   "cell_type": "code",
   "execution_count": null,
   "metadata": {},
   "outputs": [],
   "source": [
    "params_config = read_config(\"tests/data/configs/parameters_local.cfg\")\n",
    "\n",
    "# Expected output metadata determined from the input configuration file\n",
    "expected_metadata[\"RvicPourPointsFile\"] = params_config[\"POUR_POINTS\"][\"FILE_NAME\"].split(\"/\")[-1]\n",
    "expected_metadata[\"RvicUHFile\"] = params_config[\"UH_BOX\"][\"FILE_NAME\"].split(\"/\")[-1]\n",
    "expected_metadata[\"RvicFdrFile\"] = params_config[\"ROUTING\"][\"FILE_NAME\"].split(\"/\")[-1]\n",
    "\n",
    "assert params_meatadata == expected_metadata"
   ]
  }
 ],
 "metadata": {
  "kernelspec": {
   "display_name": "Python 3",
   "language": "python",
   "name": "python3"
  },
  "language_info": {
   "codemirror_mode": {
    "name": "ipython",
    "version": 3
   },
   "file_extension": ".py",
   "mimetype": "text/x-python",
   "name": "python",
   "nbconvert_exporter": "python",
   "pygments_lexer": "ipython3",
   "version": "3.6.9"
  }
 },
 "nbformat": 4,
 "nbformat_minor": 4
}
