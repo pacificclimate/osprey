{
 "cells": [
  {
   "cell_type": "markdown",
   "metadata": {},
   "source": [
    "# wps_parameters\n",
    "\n",
    "#### wps_parameters is a process that runs the [parameters](https://rvic.readthedocs.io/en/latest/user-guide/parameters/) module of a VIC streamflow routing model, called [RVIC](https://rvic.readthedocs.io/en/latest/). To get started, first instatiate the client. Here, the client will try to connect to a remote osprey instance using the url parameter."
   ]
  },
  {
   "cell_type": "code",
   "execution_count": 1,
   "metadata": {},
   "outputs": [],
   "source": [
    "from birdy import WPSClient\n",
    "import requests\n",
    "import os\n",
    "from datetime import datetime\n",
    "from wps_tools.testing import get_target_url\n",
    "from netCDF4 import Dataset\n",
    "from tempfile import NamedTemporaryFile\n",
    "from rvic.core.config import read_config\n",
    "from pkg_resources import resource_filename\n",
    "\n",
    "# Ensure we are in the working directory with access to the data\n",
    "while os.path.basename(os.getcwd()) != \"osprey\":\n",
    "    os.chdir('../')"
   ]
  },
  {
   "cell_type": "code",
   "execution_count": 2,
   "metadata": {},
   "outputs": [
    {
     "name": "stdout",
     "output_type": "stream",
     "text": [
      "Using osprey on https://docker-dev03.pcic.uvic.ca/twitcher/ows/proxy/osprey/wps\n"
     ]
    }
   ],
   "source": [
    "# NBVAL_IGNORE_OUTPUT\n",
    "url = get_target_url(\"osprey\")\n",
    "print(f\"Using osprey on {url}\")"
   ]
  },
  {
   "cell_type": "code",
   "execution_count": 3,
   "metadata": {},
   "outputs": [],
   "source": [
    "osprey = WPSClient(url)"
   ]
  },
  {
   "cell_type": "markdown",
   "metadata": {},
   "source": [
    "#### Help for individual processes can be diplayed using the ? command (ex. bird.process?)."
   ]
  },
  {
   "cell_type": "code",
   "execution_count": 4,
   "metadata": {},
   "outputs": [
    {
     "data": {
      "text/plain": [
       "\u001b[0;31mSignature:\u001b[0m\n",
       "\u001b[0mosprey\u001b[0m\u001b[0;34m.\u001b[0m\u001b[0mparameters\u001b[0m\u001b[0;34m(\u001b[0m\u001b[0;34m\u001b[0m\n",
       "\u001b[0;34m\u001b[0m    \u001b[0mcase_id\u001b[0m\u001b[0;34m,\u001b[0m\u001b[0;34m\u001b[0m\n",
       "\u001b[0;34m\u001b[0m    \u001b[0mgrid_id\u001b[0m\u001b[0;34m,\u001b[0m\u001b[0;34m\u001b[0m\n",
       "\u001b[0;34m\u001b[0m    \u001b[0mpour_points\u001b[0m\u001b[0;34m=\u001b[0m\u001b[0;32mNone\u001b[0m\u001b[0;34m,\u001b[0m\u001b[0;34m\u001b[0m\n",
       "\u001b[0;34m\u001b[0m    \u001b[0muh_box\u001b[0m\u001b[0;34m=\u001b[0m\u001b[0;32mNone\u001b[0m\u001b[0;34m,\u001b[0m\u001b[0;34m\u001b[0m\n",
       "\u001b[0;34m\u001b[0m    \u001b[0mrouting\u001b[0m\u001b[0;34m=\u001b[0m\u001b[0;32mNone\u001b[0m\u001b[0;34m,\u001b[0m\u001b[0;34m\u001b[0m\n",
       "\u001b[0;34m\u001b[0m    \u001b[0mdomain\u001b[0m\u001b[0;34m=\u001b[0m\u001b[0;32mNone\u001b[0m\u001b[0;34m,\u001b[0m\u001b[0;34m\u001b[0m\n",
       "\u001b[0;34m\u001b[0m    \u001b[0mloglevel\u001b[0m\u001b[0;34m=\u001b[0m\u001b[0;34m'INFO'\u001b[0m\u001b[0;34m,\u001b[0m\u001b[0;34m\u001b[0m\n",
       "\u001b[0;34m\u001b[0m    \u001b[0mnp\u001b[0m\u001b[0;34m=\u001b[0m\u001b[0;36m1\u001b[0m\u001b[0;34m,\u001b[0m\u001b[0;34m\u001b[0m\n",
       "\u001b[0;34m\u001b[0m    \u001b[0mversion\u001b[0m\u001b[0;34m=\u001b[0m\u001b[0;32mTrue\u001b[0m\u001b[0;34m,\u001b[0m\u001b[0;34m\u001b[0m\n",
       "\u001b[0;34m\u001b[0m    \u001b[0mparams_config_file\u001b[0m\u001b[0;34m=\u001b[0m\u001b[0;32mNone\u001b[0m\u001b[0;34m,\u001b[0m\u001b[0;34m\u001b[0m\n",
       "\u001b[0;34m\u001b[0m    \u001b[0mparams_config_dict\u001b[0m\u001b[0;34m=\u001b[0m\u001b[0;32mNone\u001b[0m\u001b[0;34m,\u001b[0m\u001b[0;34m\u001b[0m\n",
       "\u001b[0;34m\u001b[0m\u001b[0;34m)\u001b[0m\u001b[0;34m\u001b[0m\u001b[0;34m\u001b[0m\u001b[0m\n",
       "\u001b[0;31mDocstring:\u001b[0m\n",
       "Develop impulse response functions using inputs from a configuration file or dictionary\n",
       "\n",
       "Parameters\n",
       "----------\n",
       "loglevel : {'CRITICAL', 'ERROR', 'WARNING', 'INFO', 'DEBUG', 'NOTSET'}string\n",
       "    Logging level\n",
       "np : integer\n",
       "    Number of processors used to run job\n",
       "version : boolean\n",
       "    Return RVIC version string\n",
       "case_id : string\n",
       "    Case ID for the RVIC process\n",
       "grid_id : string\n",
       "    Routing domain grid shortname\n",
       "pour_points : ComplexData:mimetype:`text/plain`, :mimetype:`text/csv`\n",
       "    Path to Pour Points File; A comma separated file of outlets to route to [lons, lats]\n",
       "uh_box : ComplexData:mimetype:`text/plain`, :mimetype:`text/csv`\n",
       "    Path to UH Box File. This defines the unit hydrograph to rout flow to the edge of each grid cell.\n",
       "routing : ComplexData:mimetype:`application/x-netcdf`, :mimetype:`application/x-ogc-dods`\n",
       "    Path to routing inputs netCDF.\n",
       "domain : ComplexData:mimetype:`application/x-netcdf`, :mimetype:`application/x-ogc-dods`\n",
       "    Path to CESM complaint domain file\n",
       "params_config_file : ComplexData:mimetype:`text/cfg`\n",
       "    Path to input configuration file for Parameters process\n",
       "params_config_dict : string\n",
       "    Dictionary containing input configuration for Parameters process\n",
       "\n",
       "Returns\n",
       "-------\n",
       "output : ComplexData:mimetype:`application/x-netcdf`\n",
       "    Output Netcdf File\n",
       "\u001b[0;31mFile:\u001b[0m      ~/code/birds/osprey/</tmp/osprey-venv/lib/python3.8/site-packages/birdy/client/base.py-2>\n",
       "\u001b[0;31mType:\u001b[0m      method\n"
      ]
     },
     "metadata": {},
     "output_type": "display_data"
    }
   ],
   "source": [
    "# NBVAL_IGNORE_OUTPUT\n",
    "osprey.parameters?"
   ]
  },
  {
   "cell_type": "markdown",
   "metadata": {},
   "source": [
    "#### We can use the docstring to ensure we provide the appropriate parameters."
   ]
  },
  {
   "cell_type": "code",
   "execution_count": 5,
   "metadata": {},
   "outputs": [],
   "source": [
    "# run parameters only with required inputs\n",
    "output_basic = osprey.parameters(\n",
    "    case_id = \"sample\",\n",
    "    grid_id = \"COLUMBIA\",\n",
    "    pour_points = \"https://docker-dev03.pcic.uvic.ca/twitcher/ows/proxy/thredds/fileServer/datasets/storage/data/projects/comp_support/climate_explorer_data_prep/hydro/sample_data/set4/sample_pour.txt\",\n",
    "    uh_box = resource_filename(\"tests\", \"/data/samples/uhbox.csv\"),\n",
    "    routing = \"https://docker-dev03.pcic.uvic.ca/twitcher/ows/proxy/thredds/dodsC/datasets/storage/data/projects/comp_support/climate_explorer_data_prep/hydro/sample_data/set4/sample_flow_parameters.nc\",\n",
    "    domain = resource_filename(\"tests\", \"/data/samples/sample_routing_domain.nc\"),\n",
    ")"
   ]
  },
  {
   "cell_type": "code",
   "execution_count": 6,
   "metadata": {},
   "outputs": [],
   "source": [
    "# run parameters with local configuration file\n",
    "output_config_file = osprey.parameters(\n",
    "    case_id = \"sample\",\n",
    "    grid_id = \"COLUMBIA\",\n",
    "    pour_points = \"https://docker-dev03.pcic.uvic.ca/twitcher/ows/proxy/thredds/fileServer/datasets/storage/data/projects/comp_support/climate_explorer_data_prep/hydro/sample_data/set4/sample_pour.txt\",\n",
    "    uh_box = resource_filename(\"tests\", \"/data/samples/uhbox.csv\"),\n",
    "    routing = \"https://docker-dev03.pcic.uvic.ca/twitcher/ows/proxy/thredds/dodsC/datasets/storage/data/projects/comp_support/climate_explorer_data_prep/hydro/sample_data/set4/sample_flow_parameters.nc\",\n",
    "    domain = resource_filename(\"tests\", \"/data/samples/sample_routing_domain.nc\"),\n",
    "    params_config_file = resource_filename(\"tests\", \"/data/configs/parameters.cfg\")\n",
    ")"
   ]
  },
  {
   "cell_type": "code",
   "execution_count": 7,
   "metadata": {},
   "outputs": [],
   "source": [
    "# run parameters with configuration dictionary\n",
    "output_config_dict = osprey.parameters(\n",
    "    case_id = \"sample\",\n",
    "    grid_id = \"COLUMBIA\",\n",
    "    pour_points = \"https://docker-dev03.pcic.uvic.ca/twitcher/ows/proxy/thredds/fileServer/datasets/storage/data/projects/comp_support/climate_explorer_data_prep/hydro/sample_data/set4/sample_pour.txt\",\n",
    "    uh_box = resource_filename(\"tests\", \"/data/samples/uhbox.csv\"),\n",
    "    routing = \"https://docker-dev03.pcic.uvic.ca/twitcher/ows/proxy/thredds/dodsC/datasets/storage/data/projects/comp_support/climate_explorer_data_prep/hydro/sample_data/set4/sample_flow_parameters.nc\",\n",
    "    domain = resource_filename(\"tests\", \"/data/samples/sample_routing_domain.nc\"),\n",
    "    params_config_dict = {\n",
    "        \"OPTIONS\": {\n",
    "            \"LOG_LEVEL\": \"CRITICAL\",\n",
    "        },\n",
    "    }\n",
    ")"
   ]
  },
  {
   "cell_type": "markdown",
   "metadata": {},
   "source": [
    "Access the output with nc_to_dataset() or auto_construct_outputs() from wps_tools.output_handling"
   ]
  },
  {
   "cell_type": "code",
   "execution_count": 8,
   "metadata": {},
   "outputs": [
    {
     "data": {
      "text/plain": [
       "[<class 'netCDF4._netCDF4.Dataset'>\n",
       " root group (NETCDF4 data model, file format HDF5):\n",
       "     title: RVIC parameter file\n",
       "     comment: Output from the RVIC Streamflow Routing Model.\n",
       "     Conventions: CF-1.6\n",
       "     history: Created: Wed Jan  6 17:16:46 2021\n",
       "     source: /tmp/osprey-venv/bin/osprey\n",
       "     institution: University of Washington\n",
       "     hostname: pcic-2003\n",
       "     username: csanders\n",
       "     references: Based on the initial model of Lohmann, et al., 1996, Tellus, 48(A), 708-721\n",
       "     version: 1.1.4\n",
       "     RvicPourPointsFile: sample_pour.txt\n",
       "     RvicUHFile: uhbox.csv\n",
       "     RvicFdrFile: sample_flow_parameters.nc\n",
       "     RvicDomainFile: sample_routing_domain.nc\n",
       "     featureType: timeSeries\n",
       "     dimensions(sizes): timesteps(100), outlets(1), nc_chars(256), sources(1), tracers(1)\n",
       "     variables(dimensions): float64 timesteps(timesteps), int32 full_time_length(), int32 subset_length(), float64 unit_hydrograph_dt(), float64 outlet_lon(outlets), float64 outlet_lat(outlets), int32 outlet_x_ind(outlets), int32 outlet_y_ind(outlets), int32 outlet_decomp_ind(outlets), int32 outlet_number(outlets), int32 outlet_mask(outlets), float64 outlet_upstream_area(outlets), int32 outlet_upstream_gridcells(outlets), |S1 outlet_name(outlets, nc_chars), float64 source_lon(sources), float64 source_lat(sources), int32 source_x_ind(sources), int32 source_y_ind(sources), int32 source_decomp_ind(sources), int32 source_time_offset(sources), int32 source2outlet_ind(sources), float64 unit_hydrograph(timesteps, sources, tracers)\n",
       "     groups: ]"
      ]
     },
     "execution_count": 8,
     "metadata": {},
     "output_type": "execute_result"
    }
   ],
   "source": [
    "# NBVAL_IGNORE_OUTPUT\n",
    "from wps_tools.output_handling import nc_to_dataset, auto_construct_outputs\n",
    "\n",
    "# Example parameters only with required inputs\n",
    "nc_to_dataset(output_basic.get()[0])\n",
    "auto_construct_outputs(output_basic.get())"
   ]
  },
  {
   "cell_type": "markdown",
   "metadata": {},
   "source": [
    "#### Once the process has completed we can extract the results and ensure it is what we expected."
   ]
  },
  {
   "cell_type": "code",
   "execution_count": 9,
   "metadata": {},
   "outputs": [],
   "source": [
    "input_config = read_config(\"tests/data/configs/parameters.cfg\")\n",
    "\n",
    "# Expected output metadata determined from the input configuration file\n",
    "expected = {\n",
    "    \"title\": \"RVIC parameter file\",\n",
    "    \"year\": datetime.now().strftime(\"%Y\"),\n",
    "    \"month\": datetime.now().strftime(\"%b\"),\n",
    "    \"day\": datetime.now().strftime(\"%d\"),\n",
    "    \"RvicPourPointsFile\": \"sample_pour.txt\",\n",
    "    \"RvicFdrFile\": \"sample_flow_parameters.nc\",\n",
    "}"
   ]
  },
  {
   "cell_type": "code",
   "execution_count": 10,
   "metadata": {},
   "outputs": [],
   "source": [
    "def test_parameters_output(output, expected):\n",
    "    output_data = nc_to_dataset(output.get()[0])\n",
    "\n",
    "    # Metadata of the output of RVIC parameters module\n",
    "    metadata = {\n",
    "        \"title\": output_data.title,\n",
    "        \"year\": output_data.history.split()[5],\n",
    "        \"month\": output_data.history.split()[2],\n",
    "        \"day\": output_data.history.split()[3].zfill(2),\n",
    "        \"RvicPourPointsFile\": output_data.RvicPourPointsFile,\n",
    "        \"RvicFdrFile\": output_data.RvicFdrFile,\n",
    "    }\n",
    "\n",
    "    assert metadata == expected"
   ]
  },
  {
   "cell_type": "code",
   "execution_count": 11,
   "metadata": {},
   "outputs": [],
   "source": [
    "test_parameters_output(output_basic, expected)\n",
    "test_parameters_output(output_config_file, expected)\n",
    "test_parameters_output(output_config_dict, expected)"
   ]
  }
 ],
 "metadata": {
  "kernelspec": {
   "display_name": "Python 3",
   "language": "python",
   "name": "python3"
  },
  "language_info": {
   "codemirror_mode": {
    "name": "ipython",
    "version": 3
   },
   "file_extension": ".py",
   "mimetype": "text/x-python",
   "name": "python",
   "nbconvert_exporter": "python",
   "pygments_lexer": "ipython3",
   "version": "3.8.5"
  }
 },
 "nbformat": 4,
 "nbformat_minor": 4
}
