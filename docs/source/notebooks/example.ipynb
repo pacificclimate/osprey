{
 "cells": [
  {
   "cell_type": "markdown",
   "metadata": {},
   "source": [
    "# Osprey usage\n",
    "\n",
    "#### Osprey is a WPS server that runs stream flow routing model, called [RVIC](https://rvic.readthedocs.io/en/latest/). To get started, first instatiate the client. Here, the client will try to connect to a remote osprey instance using the url parameter."
   ]
  },
  {
   "cell_type": "code",
   "execution_count": 1,
   "metadata": {},
   "outputs": [],
   "source": [
    "from birdy import WPSClient\n",
    "import requests\n",
    "import os\n",
    "from netCDF4 import Dataset\n",
    "from tempfile import NamedTemporaryFile\n",
    "from rvic.core.config import read_config\n",
    "from datetime import datetime\n",
    "\n",
    "# Ensure we are in the working directory with access to the data\n",
    "if os.path.basename(os.getcwd()) != \"osprey\":\n",
    "    os.chdir('../../../')\n",
    "\n",
    "url = 'https://docker-dev03.pcic.uvic.ca/twitcher/ows/proxy/osprey/wps'\n",
    "osprey = WPSClient(url)"
   ]
  },
  {
   "cell_type": "markdown",
   "metadata": {},
   "source": [
    "#### The list of available processes can be diplayed using the ? command (ex. bird?)."
   ]
  },
  {
   "cell_type": "code",
   "execution_count": 2,
   "metadata": {},
   "outputs": [
    {
     "data": {
      "text/plain": [
       "\u001b[0;31mType:\u001b[0m            WPSClient\n",
       "\u001b[0;31mString form:\u001b[0m     <birdy.client.base.WPSClient object at 0x7ff9e4740ac8>\n",
       "\u001b[0;31mFile:\u001b[0m            ~/Desktop/osprey/venv/lib/python3.6/site-packages/birdy/client/base.py\n",
       "\u001b[0;31mDocstring:\u001b[0m      \n",
       "A Web Processing Service for Climate Data Analysis.\n",
       "\n",
       "Processes\n",
       "---------\n",
       "\n",
       "convert\n",
       "    A simple conversion utility to provide users with the ability to convert old routing model setups into RVIC parameters.\n",
       "\n",
       "convolution\n",
       "    Aggregates the flow contribution from all upstream grid cellsat every timestep lagged according the Impuls Response Functions.\n",
       "\n",
       "parameters\n",
       "    Develop impulse response functions using inputs from a configuration file or dictionary\n",
       "\n",
       "full_rvic\n",
       "    Run full RVIC process combining Parameters and Convolution modules\n",
       "\u001b[0;31mClass docstring:\u001b[0m\n",
       "Returns a class where every public method is a WPS process available at\n",
       "the given url.\n",
       "\n",
       "Example:\n",
       "    >>> emu = WPSClient(url='<server url>')\n",
       "    >>> emu.hello('stranger')\n",
       "    'Hello stranger'\n",
       "\u001b[0;31mInit docstring:\u001b[0m \n",
       "Args:\n",
       "    url (str): Link to WPS provider. config (Config): an instance\n",
       "    processes: Specify a subset of processes to bind. Defaults to all\n",
       "        processes.\n",
       "    converters (dict): Correspondence of {mimetype: class} to convert\n",
       "        this mimetype to a python object.\n",
       "    username (str): passed to :class:`owslib.wps.WebProcessingService`\n",
       "    password (str): passed to :class:`owslib.wps.WebProcessingService`\n",
       "    headers (str): passed to :class:`owslib.wps.WebProcessingService`\n",
       "    auth (requests.auth.AuthBase): requests-style auth class to authenticate,\n",
       "        see https://2.python-requests.org/en/master/user/authentication/\n",
       "    verify (bool): passed to :class:`owslib.wps.WebProcessingService`\n",
       "    cert (str): passed to :class:`owslib.wps.WebProcessingService`\n",
       "    verbose (str): passed to :class:`owslib.wps.WebProcessingService`\n",
       "    progress (bool): If True, enable interactive user mode.\n",
       "    version (str): WPS version to use.\n"
      ]
     },
     "metadata": {},
     "output_type": "display_data"
    }
   ],
   "source": [
    "# NBVAL_IGNORE_OUTPUT\n",
    "osprey?"
   ]
  },
  {
   "cell_type": "markdown",
   "metadata": {},
   "source": [
    "Furthermore, help for individual processes can be diplayed using the same command (ex. bird.process?)."
   ]
  },
  {
   "cell_type": "code",
   "execution_count": 3,
   "metadata": {},
   "outputs": [
    {
     "data": {
      "text/plain": [
       "\u001b[0;31mSignature:\u001b[0m \u001b[0mosprey\u001b[0m\u001b[0;34m.\u001b[0m\u001b[0mconvert\u001b[0m\u001b[0;34m(\u001b[0m\u001b[0mconvert_config\u001b[0m\u001b[0;34m,\u001b[0m \u001b[0mloglevel\u001b[0m\u001b[0;34m=\u001b[0m\u001b[0;34m'INFO'\u001b[0m\u001b[0;34m)\u001b[0m\u001b[0;34m\u001b[0m\u001b[0;34m\u001b[0m\u001b[0m\n",
       "\u001b[0;31mDocstring:\u001b[0m\n",
       "A simple conversion utility to provide users with the ability to convert old routing model setups into RVIC parameters.\n",
       "\n",
       "Parameters\n",
       "----------\n",
       "convert_config : string\n",
       "    Path to input configuration file or input dictionary\n",
       "loglevel : {'CRITICAL', 'ERROR', 'WARNING', 'INFO', 'DEBUG', 'NOTSET'}string\n",
       "    Logging level\n",
       "\n",
       "Returns\n",
       "-------\n",
       "output : ComplexData:mimetype:`application/x-netcdf`\n",
       "    Output Netcdf File\n",
       "\u001b[0;31mFile:\u001b[0m      ~/Desktop/osprey/</home/sangwonl/Desktop/osprey/venv/lib/python3.6/site-packages/birdy/client/base.py-0>\n",
       "\u001b[0;31mType:\u001b[0m      method\n"
      ]
     },
     "metadata": {},
     "output_type": "display_data"
    }
   ],
   "source": [
    "# NBVAL_IGNORE_OUTPUT\n",
    "osprey.convert?"
   ]
  },
  {
   "cell_type": "code",
   "execution_count": 4,
   "metadata": {},
   "outputs": [
    {
     "data": {
      "text/plain": [
       "\u001b[0;31mSignature:\u001b[0m \u001b[0mosprey\u001b[0m\u001b[0;34m.\u001b[0m\u001b[0mparameters\u001b[0m\u001b[0;34m(\u001b[0m\u001b[0mparams_config\u001b[0m\u001b[0;34m,\u001b[0m \u001b[0mnp\u001b[0m\u001b[0;34m=\u001b[0m\u001b[0;36m1\u001b[0m\u001b[0;34m,\u001b[0m \u001b[0mversion\u001b[0m\u001b[0;34m=\u001b[0m\u001b[0;32mTrue\u001b[0m\u001b[0;34m,\u001b[0m \u001b[0mloglevel\u001b[0m\u001b[0;34m=\u001b[0m\u001b[0;34m'INFO'\u001b[0m\u001b[0;34m)\u001b[0m\u001b[0;34m\u001b[0m\u001b[0;34m\u001b[0m\u001b[0m\n",
       "\u001b[0;31mDocstring:\u001b[0m\n",
       "Develop impulse response functions using inputs from a configuration file or dictionary\n",
       "\n",
       "Parameters\n",
       "----------\n",
       "params_config : string\n",
       "    Path to input configuration file or input dictionary\n",
       "np : integer\n",
       "    Number of processors used to run job\n",
       "version : boolean\n",
       "    Return RVIC version string\n",
       "loglevel : {'CRITICAL', 'ERROR', 'WARNING', 'INFO', 'DEBUG', 'NOTSET'}string\n",
       "    Logging level\n",
       "\n",
       "Returns\n",
       "-------\n",
       "output : ComplexData:mimetype:`application/x-netcdf`\n",
       "    Output Netcdf File\n",
       "\u001b[0;31mFile:\u001b[0m      ~/Desktop/osprey/</home/sangwonl/Desktop/osprey/venv/lib/python3.6/site-packages/birdy/client/base.py-2>\n",
       "\u001b[0;31mType:\u001b[0m      method\n"
      ]
     },
     "metadata": {},
     "output_type": "display_data"
    }
   ],
   "source": [
    "# NBVAL_IGNORE_OUTPUT\n",
    "osprey.parameters?"
   ]
  },
  {
   "cell_type": "code",
   "execution_count": 5,
   "metadata": {},
   "outputs": [
    {
     "data": {
      "text/plain": [
       "\u001b[0;31mSignature:\u001b[0m \u001b[0mosprey\u001b[0m\u001b[0;34m.\u001b[0m\u001b[0mconvolution\u001b[0m\u001b[0;34m(\u001b[0m\u001b[0mconvolve_config\u001b[0m\u001b[0;34m,\u001b[0m \u001b[0mloglevel\u001b[0m\u001b[0;34m=\u001b[0m\u001b[0;34m'INFO'\u001b[0m\u001b[0;34m)\u001b[0m\u001b[0;34m\u001b[0m\u001b[0;34m\u001b[0m\u001b[0m\n",
       "\u001b[0;31mDocstring:\u001b[0m\n",
       "Aggregates the flow contribution from all upstream grid cellsat every timestep lagged according the Impuls Response Functions.\n",
       "\n",
       "Parameters\n",
       "----------\n",
       "convolve_config : string\n",
       "    Path to input configuration file or input dictionary\n",
       "loglevel : {'CRITICAL', 'ERROR', 'WARNING', 'INFO', 'DEBUG', 'NOTSET'}string\n",
       "    Logging level\n",
       "\n",
       "Returns\n",
       "-------\n",
       "output : ComplexData:mimetype:`application/x-netcdf`\n",
       "    Output Netcdf File\n",
       "\u001b[0;31mFile:\u001b[0m      ~/Desktop/osprey/</home/sangwonl/Desktop/osprey/venv/lib/python3.6/site-packages/birdy/client/base.py-1>\n",
       "\u001b[0;31mType:\u001b[0m      method\n"
      ]
     },
     "metadata": {},
     "output_type": "display_data"
    }
   ],
   "source": [
    "# NBVAL_IGNORE_OUTPUT\n",
    "osprey.convolution?"
   ]
  },
  {
   "cell_type": "code",
   "execution_count": 6,
   "metadata": {},
   "outputs": [
    {
     "data": {
      "text/plain": [
       "\u001b[0;31mSignature:\u001b[0m\n",
       "\u001b[0mosprey\u001b[0m\u001b[0;34m.\u001b[0m\u001b[0mfull_rvic\u001b[0m\u001b[0;34m(\u001b[0m\u001b[0;34m\u001b[0m\n",
       "\u001b[0;34m\u001b[0m    \u001b[0mparams_config\u001b[0m\u001b[0;34m,\u001b[0m\u001b[0;34m\u001b[0m\n",
       "\u001b[0;34m\u001b[0m    \u001b[0mconvolve_config\u001b[0m\u001b[0;34m,\u001b[0m\u001b[0;34m\u001b[0m\n",
       "\u001b[0;34m\u001b[0m    \u001b[0mversion\u001b[0m\u001b[0;34m=\u001b[0m\u001b[0;32mTrue\u001b[0m\u001b[0;34m,\u001b[0m\u001b[0;34m\u001b[0m\n",
       "\u001b[0;34m\u001b[0m    \u001b[0mnp\u001b[0m\u001b[0;34m=\u001b[0m\u001b[0;36m1\u001b[0m\u001b[0;34m,\u001b[0m\u001b[0;34m\u001b[0m\n",
       "\u001b[0;34m\u001b[0m    \u001b[0mloglevel\u001b[0m\u001b[0;34m=\u001b[0m\u001b[0;34m'INFO'\u001b[0m\u001b[0;34m,\u001b[0m\u001b[0;34m\u001b[0m\n",
       "\u001b[0;34m\u001b[0m\u001b[0;34m)\u001b[0m\u001b[0;34m\u001b[0m\u001b[0;34m\u001b[0m\u001b[0m\n",
       "\u001b[0;31mDocstring:\u001b[0m\n",
       "Run full RVIC process combining Parameters and Convolution modules\n",
       "\n",
       "Parameters\n",
       "----------\n",
       "params_config : string\n",
       "    Path to parameters module's input configuration file or input dictionary\n",
       "convolve_config : string\n",
       "    Path to convolution module's input configuration file or input dictionary\n",
       "version : boolean\n",
       "    Return RVIC version string\n",
       "np : integer\n",
       "    Number of processors used to run job\n",
       "loglevel : {'CRITICAL', 'ERROR', 'WARNING', 'INFO', 'DEBUG', 'NOTSET'}string\n",
       "    Logging level\n",
       "\n",
       "Returns\n",
       "-------\n",
       "output : ComplexData:mimetype:`application/x-netcdf`\n",
       "    Output Netcdf File\n",
       "\u001b[0;31mFile:\u001b[0m      ~/Desktop/osprey/</home/sangwonl/Desktop/osprey/venv/lib/python3.6/site-packages/birdy/client/base.py-3>\n",
       "\u001b[0;31mType:\u001b[0m      method\n"
      ]
     },
     "metadata": {},
     "output_type": "display_data"
    }
   ],
   "source": [
    "# NBVAL_IGNORE_OUTPUT\n",
    "osprey.full_rvic?"
   ]
  },
  {
   "cell_type": "markdown",
   "metadata": {},
   "source": [
    "#### Now that we know which process we wish to run, we can use the docstring to ensure we provide the appropriate parameters."
   ]
  },
  {
   "cell_type": "code",
   "execution_count": 7,
   "metadata": {},
   "outputs": [],
   "source": [
    "# run convert\n",
    "convert_output = osprey.convert(\n",
    "    convert_config = \"tests/data/configs/convert_local.cfg\"\n",
    ")"
   ]
  },
  {
   "cell_type": "code",
   "execution_count": 8,
   "metadata": {},
   "outputs": [],
   "source": [
    "# run parameters\n",
    "params_output = osprey.parameters(\n",
    "    params_config = \"tests/data/configs/parameters_local.cfg\"\n",
    ")"
   ]
  },
  {
   "cell_type": "code",
   "execution_count": 9,
   "metadata": {},
   "outputs": [],
   "source": [
    "# run convolution\n",
    "convolve_output = osprey.convolution(\n",
    "    convolve_config = \"tests/data/configs/convolve_opendap.cfg\"\n",
    ")"
   ]
  },
  {
   "cell_type": "code",
   "execution_count": 10,
   "metadata": {},
   "outputs": [],
   "source": [
    "# run full_rvic\n",
    "full_rvic_output = osprey.full_rvic(\n",
    "    params_config = \"tests/data/configs/parameters_local.cfg\",\n",
    "    convolve_config = \"tests/data/configs/convolve_opendap.cfg\"\n",
    ")"
   ]
  },
  {
   "cell_type": "markdown",
   "metadata": {},
   "source": [
    "#### Once the process has completed we can extract the results and ensure it is what we expected."
   ]
  },
  {
   "cell_type": "code",
   "execution_count": 11,
   "metadata": {},
   "outputs": [],
   "source": [
    "def make_tmp_copy(output):\n",
    "    output_content = requests.get(output.get()[0]).content\n",
    "\n",
    "    tmp_copy = NamedTemporaryFile(\n",
    "        suffix=\".nc\", prefix=\"tmp_copy\", dir=\"/tmp\", delete=False\n",
    "    )\n",
    "    tmp_copy.write(output_content)\n",
    "    return tmp_copy.name"
   ]
  },
  {
   "cell_type": "code",
   "execution_count": 12,
   "metadata": {},
   "outputs": [
    {
     "data": {
      "text/plain": [
       "'gunicorn'"
      ]
     },
     "execution_count": 12,
     "metadata": {},
     "output_type": "execute_result"
    }
   ],
   "source": [
    "convert_data = Dataset(make_tmp_copy(convert_output))\n",
    "convert_meatadata = {\n",
    "    \"title\": convert_data.title,\n",
    "    \"year\": convert_data.history.split()[5],\n",
    "    \"month\": convert_data.history.split()[2],\n",
    "    \"day\": convert_data.history.split()[3],\n",
    "    \"RvicPourPointsFile\": convert_data.RvicPourPointsFile,\n",
    "    \"RvicUHFile\": convert_data.RvicUHFile,\n",
    "    \"RvicFdrFile\": convert_data.RvicFdrFile,\n",
    "    \"RvicDomainFile\": convert_data.RvicDomainFile,\n",
    "}\n",
    "convert_data.source.split(\"/\")[-1]"
   ]
  },
  {
   "cell_type": "code",
   "execution_count": 13,
   "metadata": {},
   "outputs": [],
   "source": [
    "convert_config = read_config(\"tests/data/configs/convert_local.cfg\")\n",
    "expected_metadata = {\n",
    "    \"title\": \"RVIC parameter file\",\n",
    "    \"year\": datetime.now().strftime(\"%Y\"),\n",
    "    \"month\": datetime.now().strftime(\"%b\"),\n",
    "    \"day\": datetime.now().strftime(\"%d\"),\n",
    "    \"RvicPourPointsFile\": convert_config[\"UHS_FILES\"][\"STATION_FILE\"].split(\"/\")[-1],\n",
    "    \"RvicUHFile\": \"unknown\",\n",
    "    \"RvicFdrFile\": \"unknown\",\n",
    "    \"RvicDomainFile\": convert_config[\"DOMAIN\"][\"FILE_NAME\"].split(\"/\")[-1],\n",
    "}\n",
    "\n",
    "assert convert_meatadata == expected_metadata"
   ]
  },
  {
   "cell_type": "code",
   "execution_count": 14,
   "metadata": {},
   "outputs": [],
   "source": [
    "params_data = Dataset(make_tmp_copy(params_output))\n",
    "params_meatadata = {\n",
    "    \"title\": params_data.title,\n",
    "    \"year\": params_data.history.split()[5],\n",
    "    \"month\": params_data.history.split()[2],\n",
    "    \"day\": params_data.history.split()[3],\n",
    "    \"RvicPourPointsFile\": params_data.RvicPourPointsFile,\n",
    "    \"RvicUHFile\": params_data.RvicUHFile,\n",
    "    \"RvicFdrFile\": params_data.RvicFdrFile,\n",
    "    \"RvicDomainFile\": params_data.RvicDomainFile,\n",
    "}"
   ]
  },
  {
   "cell_type": "code",
   "execution_count": 15,
   "metadata": {},
   "outputs": [],
   "source": [
    "params_config = read_config(\"tests/data/configs/parameters_local.cfg\")\n",
    "expected_metadata[\"RvicPourPointsFile\"] = params_config[\"POUR_POINTS\"][\"FILE_NAME\"].split(\"/\")[-1]\n",
    "expected_metadata[\"RvicUHFile\"] = params_config[\"UH_BOX\"][\"FILE_NAME\"].split(\"/\")[-1]\n",
    "expected_metadata[\"RvicFdrFile\"] = params_config[\"ROUTING\"][\"FILE_NAME\"].split(\"/\")[-1]\n",
    "\n",
    "assert params_meatadata == expected_metadata"
   ]
  },
  {
   "cell_type": "code",
   "execution_count": 16,
   "metadata": {},
   "outputs": [],
   "source": [
    "convolve_data = Dataset(make_tmp_copy(convolve_output))\n",
    "convolve_meatadata = {\n",
    "    \"title\": convolve_data.title,\n",
    "    \"year\": convolve_data.history.split()[5],\n",
    "    \"month\": convolve_data.history.split()[2],\n",
    "    \"day\": convolve_data.history.split()[3],\n",
    "    \"RvicPourPointsFile\": convolve_data.RvicPourPointsFile,\n",
    "    \"RvicUHFile\": convolve_data.RvicUHFile,\n",
    "    \"RvicFdrFile\": convolve_data.RvicFdrFile,\n",
    "    \"RvicDomainFile\": convolve_data.RvicDomainFile,\n",
    "}"
   ]
  },
  {
   "cell_type": "code",
   "execution_count": 17,
   "metadata": {},
   "outputs": [],
   "source": [
    "convolve_config = read_config(\"tests/data/configs/parameters_opendap.cfg\")\n",
    "expected_metadata[\"title\"] = \"RVIC history file\"\n",
    "\n",
    "assert convolve_meatadata == expected_metadata"
   ]
  },
  {
   "cell_type": "code",
   "execution_count": 18,
   "metadata": {},
   "outputs": [],
   "source": [
    "full_rvic_data = Dataset(make_tmp_copy(full_rvic_output))\n",
    "full_rvic_meatadata = {\n",
    "    \"title\": full_rvic_data.title,\n",
    "    \"year\": full_rvic_data.history.split()[5],\n",
    "    \"month\": full_rvic_data.history.split()[2],\n",
    "    \"day\": full_rvic_data.history.split()[3],\n",
    "    \"RvicPourPointsFile\": full_rvic_data.RvicPourPointsFile,\n",
    "    \"RvicUHFile\": full_rvic_data.RvicUHFile,\n",
    "    \"RvicFdrFile\": full_rvic_data.RvicFdrFile,\n",
    "    \"RvicDomainFile\": full_rvic_data.RvicDomainFile,\n",
    "}"
   ]
  },
  {
   "cell_type": "code",
   "execution_count": 19,
   "metadata": {},
   "outputs": [],
   "source": [
    "assert full_rvic_meatadata == expected_metadata"
   ]
  },
  {
   "cell_type": "code",
   "execution_count": null,
   "metadata": {},
   "outputs": [],
   "source": []
  }
 ],
 "metadata": {
  "kernelspec": {
   "display_name": "Python 3",
   "language": "python",
   "name": "python3"
  },
  "language_info": {
   "codemirror_mode": {
    "name": "ipython",
    "version": 3
   },
   "file_extension": ".py",
   "mimetype": "text/x-python",
   "name": "python",
   "nbconvert_exporter": "python",
   "pygments_lexer": "ipython3",
   "version": "3.6.9"
  }
 },
 "nbformat": 4,
 "nbformat_minor": 4
}
