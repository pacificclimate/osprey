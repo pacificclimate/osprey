{
 "cells": [
  {
   "cell_type": "markdown",
   "metadata": {},
   "source": [
    "# wps_full_rvic\n",
    "\n",
    "#### wps_full_rvic is a process that runs the [parameters](https://rvic.readthedocs.io/en/latest/user-guide/parameters/) and [convolution](https://rvic.readthedocs.io/en/latest/user-guide/convolution/) module of a VIC streamflow routing model, called [RVIC](https://rvic.readthedocs.io/en/latest/). To get started, first instatiate the client. Here, the client will try to connect to a remote osprey instance using the url parameter."
   ]
  },
  {
   "cell_type": "code",
   "execution_count": 1,
   "metadata": {},
   "outputs": [],
   "source": [
    "from birdy import WPSClient\n",
    "import requests\n",
    "import os\n",
    "from datetime import datetime\n",
    "from wps_tools.utils import copy_http_content\n",
    "from netCDF4 import Dataset\n",
    "from tempfile import NamedTemporaryFile\n",
    "from rvic.core.config import read_config\n",
    "from pkg_resources import resource_filename\n",
    "\n",
    "# Ensure we are in the working directory with access to the data\n",
    "while os.path.basename(os.getcwd()) != \"osprey\":\n",
    "    os.chdir('../')\n",
    "\n",
    "url = 'http://localhost:5002/wps'\n",
    "osprey = WPSClient(url)"
   ]
  },
  {
   "cell_type": "markdown",
   "metadata": {},
   "source": [
    "#### Help for individual processes can be diplayed using the ? command (ex. bird.process?)."
   ]
  },
  {
   "cell_type": "code",
   "execution_count": 2,
   "metadata": {},
   "outputs": [
    {
     "data": {
      "text/plain": [
       "\u001b[0;31mSignature:\u001b[0m\n",
       "\u001b[0mosprey\u001b[0m\u001b[0;34m.\u001b[0m\u001b[0mfull_rvic\u001b[0m\u001b[0;34m(\u001b[0m\u001b[0;34m\u001b[0m\n",
       "\u001b[0;34m\u001b[0m    \u001b[0mversion\u001b[0m\u001b[0;34m=\u001b[0m\u001b[0;32mTrue\u001b[0m\u001b[0;34m,\u001b[0m\u001b[0;34m\u001b[0m\n",
       "\u001b[0;34m\u001b[0m    \u001b[0mnp\u001b[0m\u001b[0;34m=\u001b[0m\u001b[0;36m1\u001b[0m\u001b[0;34m,\u001b[0m\u001b[0;34m\u001b[0m\n",
       "\u001b[0;34m\u001b[0m    \u001b[0mloglevel\u001b[0m\u001b[0;34m=\u001b[0m\u001b[0;34m'INFO'\u001b[0m\u001b[0;34m,\u001b[0m\u001b[0;34m\u001b[0m\n",
       "\u001b[0;34m\u001b[0m    \u001b[0mparams_config_file\u001b[0m\u001b[0;34m=\u001b[0m\u001b[0;32mNone\u001b[0m\u001b[0;34m,\u001b[0m\u001b[0;34m\u001b[0m\n",
       "\u001b[0;34m\u001b[0m    \u001b[0mparams_config_dict\u001b[0m\u001b[0;34m=\u001b[0m\u001b[0;32mNone\u001b[0m\u001b[0;34m,\u001b[0m\u001b[0;34m\u001b[0m\n",
       "\u001b[0;34m\u001b[0m    \u001b[0mconvolve_config_file\u001b[0m\u001b[0;34m=\u001b[0m\u001b[0;32mNone\u001b[0m\u001b[0;34m,\u001b[0m\u001b[0;34m\u001b[0m\n",
       "\u001b[0;34m\u001b[0m    \u001b[0mconvolve_config_dict\u001b[0m\u001b[0;34m=\u001b[0m\u001b[0;32mNone\u001b[0m\u001b[0;34m,\u001b[0m\u001b[0;34m\u001b[0m\n",
       "\u001b[0;34m\u001b[0m\u001b[0;34m)\u001b[0m\u001b[0;34m\u001b[0m\u001b[0;34m\u001b[0m\u001b[0m\n",
       "\u001b[0;31mDocstring:\u001b[0m\n",
       "Run full RVIC process combining Parameters and Convolution modules\n",
       "\n",
       "Parameters\n",
       "----------\n",
       "params_config_file : ComplexData:mimetype:`text/cfg`\n",
       "    Path to input configuration file or input dictionary\n",
       "params_config_dict : string\n",
       "    Dictionary containing input configuration for Parameters process\n",
       "convolve_config_file : ComplexData:mimetype:`text/cfg`\n",
       "    Path to input configuration file for Convolution process\n",
       "convolve_config_dict : string\n",
       "    Dictionary containing input configuration for Convolution process\n",
       "version : boolean\n",
       "    Return RVIC version string\n",
       "np : integer\n",
       "    Number of processors used to run job\n",
       "loglevel : {'CRITICAL', 'ERROR', 'WARNING', 'INFO', 'DEBUG', 'NOTSET'}string\n",
       "    Logging level\n",
       "\n",
       "Returns\n",
       "-------\n",
       "output : ComplexData:mimetype:`application/x-netcdf`\n",
       "    Output Netcdf File\n",
       "\u001b[0;31mFile:\u001b[0m      ~/Desktop/osprey/</home/sangwonl/Desktop/osprey/venv/lib/python3.7/site-packages/birdy/client/base.py-3>\n",
       "\u001b[0;31mType:\u001b[0m      method\n"
      ]
     },
     "metadata": {},
     "output_type": "display_data"
    }
   ],
   "source": [
    "# NBVAL_IGNORE_OUTPUT\n",
    "osprey.full_rvic?"
   ]
  },
  {
   "cell_type": "markdown",
   "metadata": {},
   "source": [
    "#### We can use the docstring to ensure we provide the appropriate parameters."
   ]
  },
  {
   "cell_type": "code",
   "execution_count": 3,
   "metadata": {},
   "outputs": [],
   "source": [
    "# run full_rvic with local configuration files\n",
    "output_config_files = osprey.full_rvic(\n",
    "    params_config_file = resource_filename(\"tests\", \"/data/configs/parameters_local.cfg\"),\n",
    "    convolve_config_file = resource_filename(\"tests\", \"/data/configs/convolve_opendap.cfg\")\n",
    ")"
   ]
  },
  {
   "cell_type": "code",
   "execution_count": 4,
   "metadata": {},
   "outputs": [],
   "source": [
    "# run parameters with configuration dictionaries\n",
    "params_config_dict = {\n",
    "    \"OPTIONS\": {\n",
    "        \"CASEID\": \"sample\",\n",
    "        \"GRIDID\": \"COLUMBIA\",\n",
    "    },\n",
    "    \"POUR_POINTS\": {\n",
    "        \"FILE_NAME\": \"https://docker-dev03.pcic.uvic.ca/twitcher/ows/proxy/thredds/fileServer/datasets/RVIC/sample_pour.txt\",\n",
    "    },\n",
    "    \"UH_BOX\": {\n",
    "        \"FILE_NAME\": \"tests/data/samples/uhbox.csv\",\n",
    "    },\n",
    "    \"ROUTING\": {\n",
    "        \"FILE_NAME\": \"https://docker-dev03.pcic.uvic.ca/twitcher/ows/proxy/thredds/dodsC/datasets/RVIC/sample_flow_parameters.nc\",\n",
    "    },\n",
    "    \"DOMAIN\": {\n",
    "        \"FILE_NAME\": \"https://docker-dev03.pcic.uvic.ca/twitcher/ows/proxy/thredds/dodsC/datasets/RVIC/sample_routing_domain.nc\",\n",
    "    },\n",
    "}\n",
    "\n",
    "convolve_config_dict = {\n",
    "    \"OPTIONS\": {\n",
    "        \"CASEID\": \"sample\",\n",
    "        \"CALENDAR\": \"standard\",\n",
    "        \"RUN_STARTDATE\": \"2012-12-01-00\",\n",
    "        \"STOP_DATE\": \"2012-12-31\",\n",
    "    },\n",
    "    \"DOMAIN\": {\n",
    "        \"FILE_NAME\": \"https://docker-dev03.pcic.uvic.ca/twitcher/ows/proxy/thredds/dodsC/datasets/RVIC/sample_routing_domain.nc\",\n",
    "    },\n",
    "    \"PARAM_FILE\": {\n",
    "        \"FILE_NAME\": \"https://docker-dev03.pcic.uvic.ca/twitcher/ows/proxy/thredds/dodsC/datasets/RVIC/sample.rvic.prm.COLUMBIA.20180516.nc\",\n",
    "    },\n",
    "    \"INPUT_FORCINGS\": {\n",
    "        \"DATL_PATH\": \"https://docker-dev03.pcic.uvic.ca/twitcher/ows/proxy/thredds/dodsC/datasets/RVIC/\",\n",
    "        \"DATL_FILE\": \"columbia_vicset2.nc\",\n",
    "    },\n",
    "}\n",
    "\n",
    "output_config_dicts = osprey.full_rvic(\n",
    "    params_config_dict = params_config_dict,\n",
    "    convolve_config_dict = convolve_config_dict,\n",
    ")"
   ]
  },
  {
   "cell_type": "markdown",
   "metadata": {},
   "source": [
    "#### Once the process has completed we can extract the results and ensure it is what we expected."
   ]
  },
  {
   "cell_type": "code",
   "execution_count": 5,
   "metadata": {},
   "outputs": [],
   "source": [
    "params_config = read_config(\"tests/data/configs/parameters_local.cfg\")\n",
    "convolve_config = read_config(\"tests/data/configs/convolve_opendap.cfg\")\n",
    "\n",
    "# Expected output metadata determined from the input configuration file\n",
    "expected = {\n",
    "    \"title\": \"RVIC history file\",\n",
    "    \"year\": datetime.now().strftime(\"%Y\"),\n",
    "    \"month\": datetime.now().strftime(\"%b\"),\n",
    "    \"day\": datetime.now().strftime(\"%d\"),\n",
    "    \"RvicPourPointsFile\": params_config[\"POUR_POINTS\"][\"FILE_NAME\"].split(\"/\")[-1],\n",
    "    \"RvicUHFile\": params_config[\"UH_BOX\"][\"FILE_NAME\"].split(\"/\")[-1],\n",
    "    \"RvicFdrFile\": params_config[\"ROUTING\"][\"FILE_NAME\"].split(\"/\")[-1],\n",
    "    \"RvicDomainFile\": convolve_config[\"DOMAIN\"][\"FILE_NAME\"].split(\"/\")[-1],\n",
    "}\n"
   ]
  },
  {
   "cell_type": "code",
   "execution_count": 6,
   "metadata": {},
   "outputs": [],
   "source": [
    "def test_full_rvic_output(output, expected):\n",
    "    with NamedTemporaryFile(suffix=\".nc\", prefix=\"tmp_copy\", dir=\"/tmp\", delete=True) as tmp_file:\n",
    "        output_data = Dataset(copy_http_content(output.get()[0], tmp_file))\n",
    "\n",
    "        # Metadata of the final output of RVIC parameters + convolution \n",
    "        metadata = {\n",
    "            \"title\": output_data.title,\n",
    "            \"year\": output_data.history.split()[5],\n",
    "            \"month\": output_data.history.split()[2],\n",
    "            \"day\": output_data.history.split()[3],\n",
    "            \"RvicPourPointsFile\": output_data.RvicPourPointsFile,\n",
    "            \"RvicUHFile\": output_data.RvicUHFile,\n",
    "            \"RvicFdrFile\": output_data.RvicFdrFile,\n",
    "            \"RvicDomainFile\": output_data.RvicDomainFile,\n",
    "        }\n",
    "        assert metadata == expected"
   ]
  },
  {
   "cell_type": "code",
   "execution_count": 7,
   "metadata": {},
   "outputs": [],
   "source": [
    "test_full_rvic_output(output_config_files, expected)\n",
    "test_full_rvic_output(output_config_dicts, expected)"
   ]
  }
 ],
 "metadata": {
  "kernelspec": {
   "display_name": "Python 3",
   "language": "python",
   "name": "python3"
  },
  "language_info": {
   "codemirror_mode": {
    "name": "ipython",
    "version": 3
   },
   "file_extension": ".py",
   "mimetype": "text/x-python",
   "name": "python",
   "nbconvert_exporter": "python",
   "pygments_lexer": "ipython3",
   "version": "3.7.7"
  }
 },
 "nbformat": 4,
 "nbformat_minor": 4
}
