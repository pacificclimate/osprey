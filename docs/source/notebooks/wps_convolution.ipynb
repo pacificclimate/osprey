{
 "cells": [
  {
   "cell_type": "code",
   "execution_count": 1,
   "metadata": {},
   "outputs": [
    {
     "ename": "ImportError",
     "evalue": "cannot import name 'copy_http_content'",
     "output_type": "error",
     "traceback": [
      "\u001b[0;31m---------------------------------------------------------------------------\u001b[0m",
      "\u001b[0;31mImportError\u001b[0m                               Traceback (most recent call last)",
      "\u001b[0;32m<ipython-input-1-885fd8cbc099>\u001b[0m in \u001b[0;36m<module>\u001b[0;34m\u001b[0m\n\u001b[1;32m      3\u001b[0m \u001b[0;32mimport\u001b[0m \u001b[0mos\u001b[0m\u001b[0;34m\u001b[0m\u001b[0;34m\u001b[0m\u001b[0m\n\u001b[1;32m      4\u001b[0m \u001b[0;32mfrom\u001b[0m \u001b[0mdatetime\u001b[0m \u001b[0;32mimport\u001b[0m \u001b[0mdatetime\u001b[0m\u001b[0;34m\u001b[0m\u001b[0;34m\u001b[0m\u001b[0m\n\u001b[0;32m----> 5\u001b[0;31m \u001b[0;32mfrom\u001b[0m \u001b[0mwps_tools\u001b[0m \u001b[0;32mimport\u001b[0m \u001b[0mcopy_http_content\u001b[0m\u001b[0;34m\u001b[0m\u001b[0;34m\u001b[0m\u001b[0m\n\u001b[0m\u001b[1;32m      6\u001b[0m \u001b[0;34m\u001b[0m\u001b[0m\n\u001b[1;32m      7\u001b[0m \u001b[0;31m# Ensure we are in the working directory with access to the data\u001b[0m\u001b[0;34m\u001b[0m\u001b[0;34m\u001b[0m\u001b[0;34m\u001b[0m\u001b[0m\n",
      "\u001b[0;31mImportError\u001b[0m: cannot import name 'copy_http_content'"
     ]
    }
   ],
   "source": [
    "from birdy import WPSClient\n",
    "import requests\n",
    "import os\n",
    "from datetime import datetime\n",
    "from wps_tools import copy_http_content\n",
    "\n",
    "# Ensure we are in the working directory with access to the data\n",
    "if os.path.basename(os.getcwd()) != \"osprey\":\n",
    "    os.chdir('../../../')\n",
    "\n",
    "url = 'https://docker-dev03.pcic.uvic.ca/twitcher/ows/proxy/osprey/wps'\n",
    "osprey = WPSClient(url)"
   ]
  },
  {
   "cell_type": "code",
   "execution_count": null,
   "metadata": {},
   "outputs": [],
   "source": [
    "# NBVAL_IGNORE_OUTPUT\n",
    "osprey.convolution?"
   ]
  },
  {
   "cell_type": "code",
   "execution_count": null,
   "metadata": {},
   "outputs": [],
   "source": [
    "# run convolution\n",
    "convolve_output = osprey.convolution(\n",
    "    convolve_config = \"tests/data/configs/convolve_opendap.cfg\"\n",
    ")"
   ]
  },
  {
   "cell_type": "code",
   "execution_count": null,
   "metadata": {},
   "outputs": [],
   "source": [
    "convolve_data = Dataset(make_tmp_copy(convolve_output))\n",
    "\n",
    "# Metadata of the output of RVIC convolution module\n",
    "convolve_meatadata = {\n",
    "    \"title\": convolve_data.title,\n",
    "    \"year\": convolve_data.history.split()[5],\n",
    "    \"month\": convolve_data.history.split()[2],\n",
    "    \"day\": convolve_data.history.split()[3],\n",
    "    \"RvicPourPointsFile\": convolve_data.RvicPourPointsFile,\n",
    "    \"RvicUHFile\": convolve_data.RvicUHFile,\n",
    "    \"RvicFdrFile\": convolve_data.RvicFdrFile,\n",
    "    \"RvicDomainFile\": convolve_data.RvicDomainFile,\n",
    "}"
   ]
  },
  {
   "cell_type": "code",
   "execution_count": null,
   "metadata": {},
   "outputs": [],
   "source": [
    "convolve_config = read_config(\"tests/data/configs/parameters_opendap.cfg\")\n",
    "\n",
    "# Expected output metadata determined from the input configuration file\n",
    "expected_metadata[\"title\"] = \"RVIC history file\"\n",
    "\n",
    "assert convolve_meatadata == expected_metadata"
   ]
  },
  {
   "cell_type": "code",
   "execution_count": null,
   "metadata": {},
   "outputs": [],
   "source": []
  }
 ],
 "metadata": {
  "kernelspec": {
   "display_name": "Python 3",
   "language": "python",
   "name": "python3"
  },
  "language_info": {
   "codemirror_mode": {
    "name": "ipython",
    "version": 3
   },
   "file_extension": ".py",
   "mimetype": "text/x-python",
   "name": "python",
   "nbconvert_exporter": "python",
   "pygments_lexer": "ipython3",
   "version": "3.6.9"
  }
 },
 "nbformat": 4,
 "nbformat_minor": 4
}
